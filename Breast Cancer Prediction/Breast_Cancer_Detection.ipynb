{
 "cells": [
  {
   "cell_type": "markdown",
   "metadata": {},
   "source": [
    "# Breast Cancer Prediction \n",
    "\n",
    "This is a project on Breast Cancer Prediction using Binary Classifiers ANN."
   ]
  },
  {
   "cell_type": "markdown",
   "metadata": {},
   "source": [
    "## Lets Head to the Solution"
   ]
  },
  {
   "cell_type": "code",
   "execution_count": 1,
   "metadata": {
    "id": "9h9VwWrbhEDP"
   },
   "outputs": [],
   "source": [
    "import pandas as pd\n",
    "import numpy as np\n",
    "\n",
    "from sklearn.datasets import load_breast_cancer\n",
    "from sklearn.preprocessing import StandardScaler\n",
    "\n",
    "from keras.models import Sequential\n",
    "from keras.layers import Dense"
   ]
  },
  {
   "cell_type": "code",
   "execution_count": 2,
   "metadata": {
    "id": "PKJ7JWdAmtg8"
   },
   "outputs": [],
   "source": [
    "data = load_breast_cancer()"
   ]
  },
  {
   "cell_type": "code",
   "execution_count": 3,
   "metadata": {
    "id": "epdBTC-im4Rb"
   },
   "outputs": [
    {
     "data": {
      "text/plain": [
       "dict_keys(['data', 'target', 'frame', 'target_names', 'DESCR', 'feature_names', 'filename'])"
      ]
     },
     "execution_count": 3,
     "metadata": {},
     "output_type": "execute_result"
    }
   ],
   "source": [
    "data.keys()"
   ]
  },
  {
   "cell_type": "code",
   "execution_count": 4,
   "metadata": {
    "id": "Iv9QGESOm6ni"
   },
   "outputs": [
    {
     "name": "stdout",
     "output_type": "stream",
     "text": [
      ".. _breast_cancer_dataset:\n",
      "\n",
      "Breast cancer wisconsin (diagnostic) dataset\n",
      "--------------------------------------------\n",
      "\n",
      "**Data Set Characteristics:**\n",
      "\n",
      "    :Number of Instances: 569\n",
      "\n",
      "    :Number of Attributes: 30 numeric, predictive attributes and the class\n",
      "\n",
      "    :Attribute Information:\n",
      "        - radius (mean of distances from center to points on the perimeter)\n",
      "        - texture (standard deviation of gray-scale values)\n",
      "        - perimeter\n",
      "        - area\n",
      "        - smoothness (local variation in radius lengths)\n",
      "        - compactness (perimeter^2 / area - 1.0)\n",
      "        - concavity (severity of concave portions of the contour)\n",
      "        - concave points (number of concave portions of the contour)\n",
      "        - symmetry\n",
      "        - fractal dimension (\"coastline approximation\" - 1)\n",
      "\n",
      "        The mean, standard error, and \"worst\" or largest (mean of the three\n",
      "        worst/largest values) of these features were computed for each image,\n",
      "        resulting in 30 features.  For instance, field 0 is Mean Radius, field\n",
      "        10 is Radius SE, field 20 is Worst Radius.\n",
      "\n",
      "        - class:\n",
      "                - WDBC-Malignant\n",
      "                - WDBC-Benign\n",
      "\n",
      "    :Summary Statistics:\n",
      "\n",
      "    ===================================== ====== ======\n",
      "                                           Min    Max\n",
      "    ===================================== ====== ======\n",
      "    radius (mean):                        6.981  28.11\n",
      "    texture (mean):                       9.71   39.28\n",
      "    perimeter (mean):                     43.79  188.5\n",
      "    area (mean):                          143.5  2501.0\n",
      "    smoothness (mean):                    0.053  0.163\n",
      "    compactness (mean):                   0.019  0.345\n",
      "    concavity (mean):                     0.0    0.427\n",
      "    concave points (mean):                0.0    0.201\n",
      "    symmetry (mean):                      0.106  0.304\n",
      "    fractal dimension (mean):             0.05   0.097\n",
      "    radius (standard error):              0.112  2.873\n",
      "    texture (standard error):             0.36   4.885\n",
      "    perimeter (standard error):           0.757  21.98\n",
      "    area (standard error):                6.802  542.2\n",
      "    smoothness (standard error):          0.002  0.031\n",
      "    compactness (standard error):         0.002  0.135\n",
      "    concavity (standard error):           0.0    0.396\n",
      "    concave points (standard error):      0.0    0.053\n",
      "    symmetry (standard error):            0.008  0.079\n",
      "    fractal dimension (standard error):   0.001  0.03\n",
      "    radius (worst):                       7.93   36.04\n",
      "    texture (worst):                      12.02  49.54\n",
      "    perimeter (worst):                    50.41  251.2\n",
      "    area (worst):                         185.2  4254.0\n",
      "    smoothness (worst):                   0.071  0.223\n",
      "    compactness (worst):                  0.027  1.058\n",
      "    concavity (worst):                    0.0    1.252\n",
      "    concave points (worst):               0.0    0.291\n",
      "    symmetry (worst):                     0.156  0.664\n",
      "    fractal dimension (worst):            0.055  0.208\n",
      "    ===================================== ====== ======\n",
      "\n",
      "    :Missing Attribute Values: None\n",
      "\n",
      "    :Class Distribution: 212 - Malignant, 357 - Benign\n",
      "\n",
      "    :Creator:  Dr. William H. Wolberg, W. Nick Street, Olvi L. Mangasarian\n",
      "\n",
      "    :Donor: Nick Street\n",
      "\n",
      "    :Date: November, 1995\n",
      "\n",
      "This is a copy of UCI ML Breast Cancer Wisconsin (Diagnostic) datasets.\n",
      "https://goo.gl/U2Uwz2\n",
      "\n",
      "Features are computed from a digitized image of a fine needle\n",
      "aspirate (FNA) of a breast mass.  They describe\n",
      "characteristics of the cell nuclei present in the image.\n",
      "\n",
      "Separating plane described above was obtained using\n",
      "Multisurface Method-Tree (MSM-T) [K. P. Bennett, \"Decision Tree\n",
      "Construction Via Linear Programming.\" Proceedings of the 4th\n",
      "Midwest Artificial Intelligence and Cognitive Science Society,\n",
      "pp. 97-101, 1992], a classification method which uses linear\n",
      "programming to construct a decision tree.  Relevant features\n",
      "were selected using an exhaustive search in the space of 1-4\n",
      "features and 1-3 separating planes.\n",
      "\n",
      "The actual linear program used to obtain the separating plane\n",
      "in the 3-dimensional space is that described in:\n",
      "[K. P. Bennett and O. L. Mangasarian: \"Robust Linear\n",
      "Programming Discrimination of Two Linearly Inseparable Sets\",\n",
      "Optimization Methods and Software 1, 1992, 23-34].\n",
      "\n",
      "This database is also available through the UW CS ftp server:\n",
      "\n",
      "ftp ftp.cs.wisc.edu\n",
      "cd math-prog/cpo-dataset/machine-learn/WDBC/\n",
      "\n",
      ".. topic:: References\n",
      "\n",
      "   - W.N. Street, W.H. Wolberg and O.L. Mangasarian. Nuclear feature extraction \n",
      "     for breast tumor diagnosis. IS&T/SPIE 1993 International Symposium on \n",
      "     Electronic Imaging: Science and Technology, volume 1905, pages 861-870,\n",
      "     San Jose, CA, 1993.\n",
      "   - O.L. Mangasarian, W.N. Street and W.H. Wolberg. Breast cancer diagnosis and \n",
      "     prognosis via linear programming. Operations Research, 43(4), pages 570-577, \n",
      "     July-August 1995.\n",
      "   - W.H. Wolberg, W.N. Street, and O.L. Mangasarian. Machine learning techniques\n",
      "     to diagnose breast cancer from fine-needle aspirates. Cancer Letters 77 (1994) \n",
      "     163-171.\n"
     ]
    }
   ],
   "source": [
    "print(data['DESCR'])"
   ]
  },
  {
   "cell_type": "code",
   "execution_count": 5,
   "metadata": {
    "id": "LD9ptFjvnuyz"
   },
   "outputs": [
    {
     "data": {
      "text/plain": [
       "(569, 30)"
      ]
     },
     "execution_count": 5,
     "metadata": {},
     "output_type": "execute_result"
    }
   ],
   "source": [
    "data['data'].shape"
   ]
  },
  {
   "cell_type": "code",
   "execution_count": 6,
   "metadata": {
    "id": "gIOjFb1ypLqB"
   },
   "outputs": [
    {
     "data": {
      "text/plain": [
       "array(['mean radius', 'mean texture', 'mean perimeter', 'mean area',\n",
       "       'mean smoothness', 'mean compactness', 'mean concavity',\n",
       "       'mean concave points', 'mean symmetry', 'mean fractal dimension',\n",
       "       'radius error', 'texture error', 'perimeter error', 'area error',\n",
       "       'smoothness error', 'compactness error', 'concavity error',\n",
       "       'concave points error', 'symmetry error',\n",
       "       'fractal dimension error', 'worst radius', 'worst texture',\n",
       "       'worst perimeter', 'worst area', 'worst smoothness',\n",
       "       'worst compactness', 'worst concavity', 'worst concave points',\n",
       "       'worst symmetry', 'worst fractal dimension'], dtype='<U23')"
      ]
     },
     "execution_count": 6,
     "metadata": {},
     "output_type": "execute_result"
    }
   ],
   "source": [
    "data['feature_names']"
   ]
  },
  {
   "cell_type": "code",
   "execution_count": 7,
   "metadata": {
    "id": "_Or3hS_KpeR0"
   },
   "outputs": [
    {
     "data": {
      "text/plain": [
       "array([1.799e+01, 1.038e+01, 1.228e+02, 1.001e+03, 1.184e-01, 2.776e-01,\n",
       "       3.001e-01, 1.471e-01, 2.419e-01, 7.871e-02, 1.095e+00, 9.053e-01,\n",
       "       8.589e+00, 1.534e+02, 6.399e-03, 4.904e-02, 5.373e-02, 1.587e-02,\n",
       "       3.003e-02, 6.193e-03, 2.538e+01, 1.733e+01, 1.846e+02, 2.019e+03,\n",
       "       1.622e-01, 6.656e-01, 7.119e-01, 2.654e-01, 4.601e-01, 1.189e-01])"
      ]
     },
     "execution_count": 7,
     "metadata": {},
     "output_type": "execute_result"
    }
   ],
   "source": [
    "data['data'][0]"
   ]
  },
  {
   "cell_type": "code",
   "execution_count": 8,
   "metadata": {
    "id": "66RDgPoPpkDH"
   },
   "outputs": [
    {
     "name": "stdout",
     "output_type": "stream",
     "text": [
      "mean radius : 17.99\n",
      "mean texture : 10.38\n",
      "mean perimeter : 122.8\n",
      "mean area : 1001.0\n",
      "mean smoothness : 0.1184\n",
      "mean compactness : 0.2776\n",
      "mean concavity : 0.3001\n",
      "mean concave points : 0.1471\n",
      "mean symmetry : 0.2419\n",
      "mean fractal dimension : 0.07871\n",
      "radius error : 1.095\n",
      "texture error : 0.9053\n",
      "perimeter error : 8.589\n",
      "area error : 153.4\n",
      "smoothness error : 0.006399\n",
      "compactness error : 0.04904\n",
      "concavity error : 0.05373\n",
      "concave points error : 0.01587\n",
      "symmetry error : 0.03003\n",
      "fractal dimension error : 0.006193\n",
      "worst radius : 25.38\n",
      "worst texture : 17.33\n",
      "worst perimeter : 184.6\n",
      "worst area : 2019.0\n",
      "worst smoothness : 0.1622\n",
      "worst compactness : 0.6656\n",
      "worst concavity : 0.7119\n",
      "worst concave points : 0.2654\n",
      "worst symmetry : 0.4601\n",
      "worst fractal dimension : 0.1189\n"
     ]
    }
   ],
   "source": [
    "j = 0\n",
    "for i in data['feature_names']:\n",
    "  print(i,\":\",data['data'][0][j])\n",
    "  j+=1"
   ]
  },
  {
   "cell_type": "code",
   "execution_count": 9,
   "metadata": {
    "id": "Nzk4dIoOqu1t"
   },
   "outputs": [],
   "source": [
    "feature = data['data']"
   ]
  },
  {
   "cell_type": "code",
   "execution_count": 10,
   "metadata": {
    "id": "KqwgdGdzp0ZX"
   },
   "outputs": [],
   "source": [
    "label = data['target']"
   ]
  },
  {
   "cell_type": "code",
   "execution_count": 11,
   "metadata": {
    "id": "UmP62MQWqiK1"
   },
   "outputs": [
    {
     "data": {
      "text/plain": [
       "array(['malignant', 'benign'], dtype='<U9')"
      ]
     },
     "execution_count": 11,
     "metadata": {},
     "output_type": "execute_result"
    }
   ],
   "source": [
    "data['target_names']"
   ]
  },
  {
   "cell_type": "code",
   "execution_count": 12,
   "metadata": {
    "id": "apyfDrfeqnC1"
   },
   "outputs": [
    {
     "data": {
      "text/plain": [
       "(569, 30)"
      ]
     },
     "execution_count": 12,
     "metadata": {},
     "output_type": "execute_result"
    }
   ],
   "source": [
    "feature.shape"
   ]
  },
  {
   "cell_type": "code",
   "execution_count": 13,
   "metadata": {
    "id": "Kn1TAFLfsQBc"
   },
   "outputs": [
    {
     "data": {
      "text/plain": [
       "(569,)"
      ]
     },
     "execution_count": 13,
     "metadata": {},
     "output_type": "execute_result"
    }
   ],
   "source": [
    "label.shape"
   ]
  },
  {
   "cell_type": "code",
   "execution_count": 14,
   "metadata": {
    "id": "LoUal6dDsr0T"
   },
   "outputs": [],
   "source": [
    "scale = StandardScaler()\n",
    "\n",
    "feature = scale.fit_transform(feature)"
   ]
  },
  {
   "cell_type": "code",
   "execution_count": 15,
   "metadata": {
    "id": "r_FOyQMHt8PT"
   },
   "outputs": [
    {
     "name": "stdout",
     "output_type": "stream",
     "text": [
      "mean radius : 1.0970639814699807\n",
      "mean texture : -2.0733350146975935\n",
      "mean perimeter : 1.2699336881399383\n",
      "mean area : 0.9843749048031144\n",
      "mean smoothness : 1.568466329243428\n",
      "mean compactness : 3.2835146709868264\n",
      "mean concavity : 2.652873983743168\n",
      "mean concave points : 2.532475216403245\n",
      "mean symmetry : 2.2175150059646405\n",
      "mean fractal dimension : 2.255746885296269\n",
      "radius error : 2.4897339267376193\n",
      "texture error : -0.5652650590684639\n",
      "perimeter error : 2.833030865855184\n",
      "area error : 2.4875775569611043\n",
      "smoothness error : -0.21400164666895383\n",
      "compactness error : 1.3168615683959484\n",
      "concavity error : 0.72402615808036\n",
      "concave points error : 0.6608199414286064\n",
      "symmetry error : 1.1487566671861758\n",
      "fractal dimension error : 0.9070830809973359\n",
      "worst radius : 1.8866896251792757\n",
      "worst texture : -1.3592934737640827\n",
      "worst perimeter : 2.3036006236225606\n",
      "worst area : 2.0012374893299207\n",
      "worst smoothness : 1.3076862710715387\n",
      "worst compactness : 2.616665023512603\n",
      "worst concavity : 2.1095263465722556\n",
      "worst concave points : 2.296076127561788\n",
      "worst symmetry : 2.750622244124955\n",
      "worst fractal dimension : 1.9370146123781782\n"
     ]
    }
   ],
   "source": [
    "j = 0\n",
    "for i in data['feature_names']:\n",
    "  print(i,\":\",feature[0][j])\n",
    "  j+=1"
   ]
  },
  {
   "cell_type": "code",
   "execution_count": 16,
   "metadata": {
    "id": "AKKH4JKKuRTt"
   },
   "outputs": [
    {
     "name": "stdout",
     "output_type": "stream",
     "text": [
      "[-1.80840125  1.22179204 -1.81438851 -1.34778924 -3.11208479 -1.15075248\n",
      " -1.11487284 -1.26181958 -0.8200699  -0.56103238 -0.07027874  0.3830925\n",
      " -0.15744905 -0.46615196  0.04934236 -1.16351619 -1.05750068 -1.91344745\n",
      "  0.75282996 -0.382754   -1.41089258  0.76418957 -1.43273495 -1.07581292\n",
      " -1.85901852 -1.2075525  -1.30583065 -1.74506282 -0.04813821 -0.75120669]\n",
      "benign 1\n"
     ]
    }
   ],
   "source": [
    "print(feature[568])\n",
    "print(data['target_names'][label[568]],label[568])\n"
   ]
  },
  {
   "cell_type": "code",
   "execution_count": 17,
   "metadata": {
    "id": "Ms1YidTfusxT"
   },
   "outputs": [],
   "source": [
    "df_frt = pd.DataFrame(feature , columns = data['feature_names'])\n",
    "df_lbl = pd.DataFrame(label , columns = ['label'])\n",
    "df = pd.concat([df_frt, df_lbl], axis=1)\n",
    "df = df.sample(frac = 1)\n",
    "\n",
    "feature = df.values[ : , : 30]\n",
    "label = df.values[ : ,30: ]"
   ]
  },
  {
   "cell_type": "code",
   "execution_count": 18,
   "metadata": {
    "id": "70TWMaSt-W4y"
   },
   "outputs": [
    {
     "data": {
      "text/html": [
       "<div>\n",
       "<style scoped>\n",
       "    .dataframe tbody tr th:only-of-type {\n",
       "        vertical-align: middle;\n",
       "    }\n",
       "\n",
       "    .dataframe tbody tr th {\n",
       "        vertical-align: top;\n",
       "    }\n",
       "\n",
       "    .dataframe thead th {\n",
       "        text-align: right;\n",
       "    }\n",
       "</style>\n",
       "<table border=\"1\" class=\"dataframe\">\n",
       "  <thead>\n",
       "    <tr style=\"text-align: right;\">\n",
       "      <th></th>\n",
       "      <th>mean radius</th>\n",
       "      <th>mean texture</th>\n",
       "      <th>mean perimeter</th>\n",
       "      <th>mean area</th>\n",
       "      <th>mean smoothness</th>\n",
       "      <th>mean compactness</th>\n",
       "      <th>mean concavity</th>\n",
       "      <th>mean concave points</th>\n",
       "      <th>mean symmetry</th>\n",
       "      <th>mean fractal dimension</th>\n",
       "      <th>...</th>\n",
       "      <th>worst texture</th>\n",
       "      <th>worst perimeter</th>\n",
       "      <th>worst area</th>\n",
       "      <th>worst smoothness</th>\n",
       "      <th>worst compactness</th>\n",
       "      <th>worst concavity</th>\n",
       "      <th>worst concave points</th>\n",
       "      <th>worst symmetry</th>\n",
       "      <th>worst fractal dimension</th>\n",
       "      <th>label</th>\n",
       "    </tr>\n",
       "  </thead>\n",
       "  <tbody>\n",
       "    <tr>\n",
       "      <th>19</th>\n",
       "      <td>-0.166799</td>\n",
       "      <td>-1.147162</td>\n",
       "      <td>-0.185728</td>\n",
       "      <td>-0.251957</td>\n",
       "      <td>0.101747</td>\n",
       "      <td>-0.436850</td>\n",
       "      <td>-0.278210</td>\n",
       "      <td>-0.028609</td>\n",
       "      <td>0.267911</td>\n",
       "      <td>-0.728310</td>\n",
       "      <td>...</td>\n",
       "      <td>-1.045005</td>\n",
       "      <td>-0.225217</td>\n",
       "      <td>-0.297761</td>\n",
       "      <td>0.509873</td>\n",
       "      <td>-0.489605</td>\n",
       "      <td>-0.159223</td>\n",
       "      <td>0.216123</td>\n",
       "      <td>0.123347</td>\n",
       "      <td>-0.629292</td>\n",
       "      <td>1</td>\n",
       "    </tr>\n",
       "    <tr>\n",
       "      <th>541</th>\n",
       "      <td>0.097334</td>\n",
       "      <td>1.326510</td>\n",
       "      <td>0.158210</td>\n",
       "      <td>0.004297</td>\n",
       "      <td>-0.568632</td>\n",
       "      <td>0.353616</td>\n",
       "      <td>0.151924</td>\n",
       "      <td>-0.258434</td>\n",
       "      <td>0.220449</td>\n",
       "      <td>0.086813</td>\n",
       "      <td>...</td>\n",
       "      <td>0.985657</td>\n",
       "      <td>0.185828</td>\n",
       "      <td>-0.126013</td>\n",
       "      <td>0.071514</td>\n",
       "      <td>1.055578</td>\n",
       "      <td>0.632369</td>\n",
       "      <td>0.089742</td>\n",
       "      <td>0.463080</td>\n",
       "      <td>1.017112</td>\n",
       "      <td>1</td>\n",
       "    </tr>\n",
       "    <tr>\n",
       "      <th>287</th>\n",
       "      <td>-0.351408</td>\n",
       "      <td>-1.435719</td>\n",
       "      <td>-0.415157</td>\n",
       "      <td>-0.395299</td>\n",
       "      <td>-1.907966</td>\n",
       "      <td>-1.270715</td>\n",
       "      <td>-0.831130</td>\n",
       "      <td>-0.959772</td>\n",
       "      <td>-1.732806</td>\n",
       "      <td>-0.990566</td>\n",
       "      <td>...</td>\n",
       "      <td>-1.650784</td>\n",
       "      <td>-0.591583</td>\n",
       "      <td>-0.533673</td>\n",
       "      <td>-1.587236</td>\n",
       "      <td>-0.887829</td>\n",
       "      <td>-0.736844</td>\n",
       "      <td>-0.928004</td>\n",
       "      <td>-0.957331</td>\n",
       "      <td>-0.819922</td>\n",
       "      <td>1</td>\n",
       "    </tr>\n",
       "    <tr>\n",
       "      <th>434</th>\n",
       "      <td>0.208100</td>\n",
       "      <td>-0.546779</td>\n",
       "      <td>0.120315</td>\n",
       "      <td>0.053500</td>\n",
       "      <td>-0.506718</td>\n",
       "      <td>-0.636788</td>\n",
       "      <td>-0.694784</td>\n",
       "      <td>-0.519727</td>\n",
       "      <td>-0.871183</td>\n",
       "      <td>-0.817619</td>\n",
       "      <td>...</td>\n",
       "      <td>-0.836565</td>\n",
       "      <td>-0.147774</td>\n",
       "      <td>-0.181211</td>\n",
       "      <td>-0.463284</td>\n",
       "      <td>-0.631464</td>\n",
       "      <td>-0.720533</td>\n",
       "      <td>-0.531351</td>\n",
       "      <td>-0.607890</td>\n",
       "      <td>-0.868688</td>\n",
       "      <td>1</td>\n",
       "    </tr>\n",
       "    <tr>\n",
       "      <th>270</th>\n",
       "      <td>0.046211</td>\n",
       "      <td>-0.574704</td>\n",
       "      <td>-0.068748</td>\n",
       "      <td>-0.063392</td>\n",
       "      <td>-2.282296</td>\n",
       "      <td>-1.470464</td>\n",
       "      <td>-1.023849</td>\n",
       "      <td>-1.100607</td>\n",
       "      <td>-1.108494</td>\n",
       "      <td>-1.281175</td>\n",
       "      <td>...</td>\n",
       "      <td>-0.818652</td>\n",
       "      <td>-0.381891</td>\n",
       "      <td>-0.344521</td>\n",
       "      <td>-2.047074</td>\n",
       "      <td>-1.297121</td>\n",
       "      <td>-1.120358</td>\n",
       "      <td>-1.237560</td>\n",
       "      <td>-0.716282</td>\n",
       "      <td>-1.260478</td>\n",
       "      <td>1</td>\n",
       "    </tr>\n",
       "    <tr>\n",
       "      <th>...</th>\n",
       "      <td>...</td>\n",
       "      <td>...</td>\n",
       "      <td>...</td>\n",
       "      <td>...</td>\n",
       "      <td>...</td>\n",
       "      <td>...</td>\n",
       "      <td>...</td>\n",
       "      <td>...</td>\n",
       "      <td>...</td>\n",
       "      <td>...</td>\n",
       "      <td>...</td>\n",
       "      <td>...</td>\n",
       "      <td>...</td>\n",
       "      <td>...</td>\n",
       "      <td>...</td>\n",
       "      <td>...</td>\n",
       "      <td>...</td>\n",
       "      <td>...</td>\n",
       "      <td>...</td>\n",
       "      <td>...</td>\n",
       "      <td>...</td>\n",
       "    </tr>\n",
       "    <tr>\n",
       "      <th>400</th>\n",
       "      <td>1.074343</td>\n",
       "      <td>0.402664</td>\n",
       "      <td>1.335838</td>\n",
       "      <td>0.964466</td>\n",
       "      <td>1.895827</td>\n",
       "      <td>2.904485</td>\n",
       "      <td>2.888907</td>\n",
       "      <td>1.828299</td>\n",
       "      <td>1.100326</td>\n",
       "      <td>1.184038</td>\n",
       "      <td>...</td>\n",
       "      <td>0.342424</td>\n",
       "      <td>1.261096</td>\n",
       "      <td>0.744330</td>\n",
       "      <td>2.407967</td>\n",
       "      <td>2.146558</td>\n",
       "      <td>3.028252</td>\n",
       "      <td>1.245441</td>\n",
       "      <td>0.556912</td>\n",
       "      <td>1.986889</td>\n",
       "      <td>0</td>\n",
       "    </tr>\n",
       "    <tr>\n",
       "      <th>213</th>\n",
       "      <td>0.935176</td>\n",
       "      <td>1.459153</td>\n",
       "      <td>0.928055</td>\n",
       "      <td>0.833637</td>\n",
       "      <td>0.301721</td>\n",
       "      <td>0.194424</td>\n",
       "      <td>0.996873</td>\n",
       "      <td>0.439809</td>\n",
       "      <td>-1.838683</td>\n",
       "      <td>-0.586549</td>\n",
       "      <td>...</td>\n",
       "      <td>0.389649</td>\n",
       "      <td>0.391350</td>\n",
       "      <td>0.246841</td>\n",
       "      <td>-0.353694</td>\n",
       "      <td>-0.476882</td>\n",
       "      <td>0.038915</td>\n",
       "      <td>-0.071660</td>\n",
       "      <td>-2.099484</td>\n",
       "      <td>-0.873676</td>\n",
       "      <td>0</td>\n",
       "    </tr>\n",
       "    <tr>\n",
       "      <th>40</th>\n",
       "      <td>-0.195201</td>\n",
       "      <td>0.532980</td>\n",
       "      <td>-0.238451</td>\n",
       "      <td>-0.261342</td>\n",
       "      <td>-1.048999</td>\n",
       "      <td>-0.834452</td>\n",
       "      <td>-0.724413</td>\n",
       "      <td>-0.737944</td>\n",
       "      <td>-0.100834</td>\n",
       "      <td>-0.982061</td>\n",
       "      <td>...</td>\n",
       "      <td>0.744648</td>\n",
       "      <td>-0.141817</td>\n",
       "      <td>-0.162929</td>\n",
       "      <td>-1.006849</td>\n",
       "      <td>-0.317847</td>\n",
       "      <td>-0.305547</td>\n",
       "      <td>-0.051865</td>\n",
       "      <td>0.150849</td>\n",
       "      <td>-0.691912</td>\n",
       "      <td>0</td>\n",
       "    </tr>\n",
       "    <tr>\n",
       "      <th>49</th>\n",
       "      <td>-0.181000</td>\n",
       "      <td>0.700529</td>\n",
       "      <td>-0.208383</td>\n",
       "      <td>-0.267030</td>\n",
       "      <td>-0.629123</td>\n",
       "      <td>-0.518531</td>\n",
       "      <td>-0.518386</td>\n",
       "      <td>-0.388951</td>\n",
       "      <td>-0.009560</td>\n",
       "      <td>-0.796355</td>\n",
       "      <td>...</td>\n",
       "      <td>1.000313</td>\n",
       "      <td>-0.246067</td>\n",
       "      <td>-0.319559</td>\n",
       "      <td>-0.708765</td>\n",
       "      <td>-0.529046</td>\n",
       "      <td>-0.211036</td>\n",
       "      <td>0.206987</td>\n",
       "      <td>-0.048138</td>\n",
       "      <td>-0.818814</td>\n",
       "      <td>1</td>\n",
       "    </tr>\n",
       "    <tr>\n",
       "      <th>416</th>\n",
       "      <td>-1.341198</td>\n",
       "      <td>0.560905</td>\n",
       "      <td>-1.333287</td>\n",
       "      <td>-1.091251</td>\n",
       "      <td>0.572150</td>\n",
       "      <td>-0.810194</td>\n",
       "      <td>-0.857873</td>\n",
       "      <td>-0.937589</td>\n",
       "      <td>0.779043</td>\n",
       "      <td>0.455390</td>\n",
       "      <td>...</td>\n",
       "      <td>0.905864</td>\n",
       "      <td>-1.147684</td>\n",
       "      <td>-0.916194</td>\n",
       "      <td>0.886862</td>\n",
       "      <td>-0.858566</td>\n",
       "      <td>-1.011215</td>\n",
       "      <td>-1.171020</td>\n",
       "      <td>-0.046520</td>\n",
       "      <td>-0.050197</td>\n",
       "      <td>1</td>\n",
       "    </tr>\n",
       "  </tbody>\n",
       "</table>\n",
       "<p>569 rows × 31 columns</p>\n",
       "</div>"
      ],
      "text/plain": [
       "     mean radius  mean texture  mean perimeter  mean area  mean smoothness  \\\n",
       "19     -0.166799     -1.147162       -0.185728  -0.251957         0.101747   \n",
       "541     0.097334      1.326510        0.158210   0.004297        -0.568632   \n",
       "287    -0.351408     -1.435719       -0.415157  -0.395299        -1.907966   \n",
       "434     0.208100     -0.546779        0.120315   0.053500        -0.506718   \n",
       "270     0.046211     -0.574704       -0.068748  -0.063392        -2.282296   \n",
       "..           ...           ...             ...        ...              ...   \n",
       "400     1.074343      0.402664        1.335838   0.964466         1.895827   \n",
       "213     0.935176      1.459153        0.928055   0.833637         0.301721   \n",
       "40     -0.195201      0.532980       -0.238451  -0.261342        -1.048999   \n",
       "49     -0.181000      0.700529       -0.208383  -0.267030        -0.629123   \n",
       "416    -1.341198      0.560905       -1.333287  -1.091251         0.572150   \n",
       "\n",
       "     mean compactness  mean concavity  mean concave points  mean symmetry  \\\n",
       "19          -0.436850       -0.278210            -0.028609       0.267911   \n",
       "541          0.353616        0.151924            -0.258434       0.220449   \n",
       "287         -1.270715       -0.831130            -0.959772      -1.732806   \n",
       "434         -0.636788       -0.694784            -0.519727      -0.871183   \n",
       "270         -1.470464       -1.023849            -1.100607      -1.108494   \n",
       "..                ...             ...                  ...            ...   \n",
       "400          2.904485        2.888907             1.828299       1.100326   \n",
       "213          0.194424        0.996873             0.439809      -1.838683   \n",
       "40          -0.834452       -0.724413            -0.737944      -0.100834   \n",
       "49          -0.518531       -0.518386            -0.388951      -0.009560   \n",
       "416         -0.810194       -0.857873            -0.937589       0.779043   \n",
       "\n",
       "     mean fractal dimension  ...  worst texture  worst perimeter  worst area  \\\n",
       "19                -0.728310  ...      -1.045005        -0.225217   -0.297761   \n",
       "541                0.086813  ...       0.985657         0.185828   -0.126013   \n",
       "287               -0.990566  ...      -1.650784        -0.591583   -0.533673   \n",
       "434               -0.817619  ...      -0.836565        -0.147774   -0.181211   \n",
       "270               -1.281175  ...      -0.818652        -0.381891   -0.344521   \n",
       "..                      ...  ...            ...              ...         ...   \n",
       "400                1.184038  ...       0.342424         1.261096    0.744330   \n",
       "213               -0.586549  ...       0.389649         0.391350    0.246841   \n",
       "40                -0.982061  ...       0.744648        -0.141817   -0.162929   \n",
       "49                -0.796355  ...       1.000313        -0.246067   -0.319559   \n",
       "416                0.455390  ...       0.905864        -1.147684   -0.916194   \n",
       "\n",
       "     worst smoothness  worst compactness  worst concavity  \\\n",
       "19           0.509873          -0.489605        -0.159223   \n",
       "541          0.071514           1.055578         0.632369   \n",
       "287         -1.587236          -0.887829        -0.736844   \n",
       "434         -0.463284          -0.631464        -0.720533   \n",
       "270         -2.047074          -1.297121        -1.120358   \n",
       "..                ...                ...              ...   \n",
       "400          2.407967           2.146558         3.028252   \n",
       "213         -0.353694          -0.476882         0.038915   \n",
       "40          -1.006849          -0.317847        -0.305547   \n",
       "49          -0.708765          -0.529046        -0.211036   \n",
       "416          0.886862          -0.858566        -1.011215   \n",
       "\n",
       "     worst concave points  worst symmetry  worst fractal dimension  label  \n",
       "19               0.216123        0.123347                -0.629292      1  \n",
       "541              0.089742        0.463080                 1.017112      1  \n",
       "287             -0.928004       -0.957331                -0.819922      1  \n",
       "434             -0.531351       -0.607890                -0.868688      1  \n",
       "270             -1.237560       -0.716282                -1.260478      1  \n",
       "..                    ...             ...                      ...    ...  \n",
       "400              1.245441        0.556912                 1.986889      0  \n",
       "213             -0.071660       -2.099484                -0.873676      0  \n",
       "40              -0.051865        0.150849                -0.691912      0  \n",
       "49               0.206987       -0.048138                -0.818814      1  \n",
       "416             -1.171020       -0.046520                -0.050197      1  \n",
       "\n",
       "[569 rows x 31 columns]"
      ]
     },
     "execution_count": 18,
     "metadata": {},
     "output_type": "execute_result"
    }
   ],
   "source": [
    "df"
   ]
  },
  {
   "cell_type": "code",
   "execution_count": 19,
   "metadata": {
    "id": "OwHAshL8wxmf"
   },
   "outputs": [],
   "source": [
    "#500 Training\n",
    "X_train = feature[:500]\n",
    "y_train = label[:500]\n",
    "\n",
    "#35 Validation\n",
    "X_val = feature[500:535]\n",
    "y_val = label[500:535]\n",
    "\n",
    "#34 Testing\n",
    "X_test = feature[535:]\n",
    "y_test = label[535:]"
   ]
  },
  {
   "cell_type": "code",
   "execution_count": 20,
   "metadata": {
    "id": "Nzj-pXW1vIJg"
   },
   "outputs": [],
   "source": [
    "model = Sequential()\n",
    "\n",
    "model.add(Dense(32, activation = 'relu', input_dim = 30))\n",
    "model.add(Dense(64, activation = 'relu'))\n",
    "model.add(Dense(128, activation = 'relu'))\n",
    "model.add(Dense(64, activation = 'relu'))\n",
    "model.add(Dense(32, activation = 'relu'))\n",
    "model.add(Dense(1, activation = 'sigmoid'))\n",
    "\n",
    "model.compile( loss = 'binary_crossentropy' , optimizer = 'adam' , metrics = ['accuracy'])"
   ]
  },
  {
   "cell_type": "code",
   "execution_count": 21,
   "metadata": {
    "id": "Myowb1aFz353"
   },
   "outputs": [
    {
     "name": "stdout",
     "output_type": "stream",
     "text": [
      "Epoch 1/10\n",
      "100/100 [==============================] - 1s 5ms/step - loss: 0.2447 - accuracy: 0.9200 - val_loss: 0.0300 - val_accuracy: 1.0000\n",
      "Epoch 2/10\n",
      "100/100 [==============================] - 0s 3ms/step - loss: 0.0947 - accuracy: 0.9620 - val_loss: 0.0589 - val_accuracy: 0.9714\n",
      "Epoch 3/10\n",
      "100/100 [==============================] - 0s 3ms/step - loss: 0.0639 - accuracy: 0.9780 - val_loss: 0.0527 - val_accuracy: 0.9714\n",
      "Epoch 4/10\n",
      "100/100 [==============================] - 0s 3ms/step - loss: 0.0531 - accuracy: 0.9860 - val_loss: 0.0315 - val_accuracy: 0.9714\n",
      "Epoch 5/10\n",
      "100/100 [==============================] - 0s 2ms/step - loss: 0.0384 - accuracy: 0.9880 - val_loss: 0.0205 - val_accuracy: 1.0000\n",
      "Epoch 6/10\n",
      "100/100 [==============================] - 0s 2ms/step - loss: 0.0318 - accuracy: 0.9940 - val_loss: 0.0102 - val_accuracy: 1.0000\n",
      "Epoch 7/10\n",
      "100/100 [==============================] - 0s 2ms/step - loss: 0.0266 - accuracy: 0.9900 - val_loss: 0.0337 - val_accuracy: 0.9714\n",
      "Epoch 8/10\n",
      "100/100 [==============================] - 0s 2ms/step - loss: 0.0254 - accuracy: 0.9880 - val_loss: 0.0567 - val_accuracy: 0.9714\n",
      "Epoch 9/10\n",
      "100/100 [==============================] - 0s 2ms/step - loss: 0.0213 - accuracy: 0.9940 - val_loss: 0.0016 - val_accuracy: 1.0000\n",
      "Epoch 10/10\n",
      "100/100 [==============================] - 0s 3ms/step - loss: 0.0073 - accuracy: 0.9980 - val_loss: 0.0340 - val_accuracy: 0.9714\n"
     ]
    },
    {
     "data": {
      "text/plain": [
       "<keras.callbacks.History at 0x21d0c54c3a0>"
      ]
     },
     "execution_count": 21,
     "metadata": {},
     "output_type": "execute_result"
    }
   ],
   "source": [
    "model.fit( X_train , y_train, epochs = 10, batch_size = 5, validation_data = (X_val, y_val))"
   ]
  },
  {
   "cell_type": "code",
   "execution_count": 22,
   "metadata": {
    "id": "WjQrOpwc2S03"
   },
   "outputs": [
    {
     "name": "stdout",
     "output_type": "stream",
     "text": [
      "2/2 [==============================] - 0s 0s/step - loss: 0.6764 - accuracy: 0.9118\n"
     ]
    },
    {
     "data": {
      "text/plain": [
       "[0.6763665080070496, 0.9117646813392639]"
      ]
     },
     "execution_count": 22,
     "metadata": {},
     "output_type": "execute_result"
    }
   ],
   "source": [
    "model.evaluate(X_test , y_test)"
   ]
  },
  {
   "cell_type": "code",
   "execution_count": 23,
   "metadata": {
    "id": "Iw4189HY6bC0"
   },
   "outputs": [
    {
     "name": "stdout",
     "output_type": "stream",
     "text": [
      "2/2 [==============================] - 0s 8ms/step - loss: 0.0340 - accuracy: 0.9714\n"
     ]
    },
    {
     "data": {
      "text/plain": [
       "[0.03397291898727417, 0.9714285731315613]"
      ]
     },
     "execution_count": 23,
     "metadata": {},
     "output_type": "execute_result"
    }
   ],
   "source": [
    "model.evaluate(X_val , y_val)"
   ]
  },
  {
   "cell_type": "code",
   "execution_count": 24,
   "metadata": {
    "id": "GVKgag0986kX"
   },
   "outputs": [
    {
     "name": "stdout",
     "output_type": "stream",
     "text": [
      "-Benign\n",
      "*Banign\n",
      "-----------\n",
      "-Benign\n",
      "*Banign\n",
      "-----------\n",
      "-Benign\n",
      "*Banign\n",
      "-----------\n",
      "-Benign\n",
      "*Banign\n",
      "-----------\n",
      "-Malignant\n",
      "*Melignant\n",
      "-----------\n",
      "-Benign\n",
      "*Banign\n",
      "-----------\n",
      "-Benign\n",
      "*Banign\n",
      "-----------\n",
      "-Benign\n",
      "*Banign\n",
      "-----------\n",
      "-Malignant\n",
      "*Melignant\n",
      "-----------\n",
      "-Benign\n",
      "*Banign\n",
      "-----------\n",
      "-Benign\n",
      "*Banign\n",
      "-----------\n",
      "-Malignant\n",
      "*Melignant\n",
      "-----------\n",
      "-Malignant\n",
      "*Melignant\n",
      "-----------\n",
      "-Benign\n",
      "*Banign\n",
      "-----------\n",
      "-Malignant\n",
      "*Banign\n",
      "-----------\n",
      "-Benign\n",
      "*Banign\n",
      "-----------\n",
      "-Benign\n",
      "*Banign\n",
      "-----------\n",
      "-Benign\n",
      "*Banign\n",
      "-----------\n",
      "-Benign\n",
      "*Banign\n",
      "-----------\n",
      "-Malignant\n",
      "*Melignant\n",
      "-----------\n",
      "-Benign\n",
      "*Banign\n",
      "-----------\n",
      "-Malignant\n",
      "*Melignant\n",
      "-----------\n",
      "-Benign\n",
      "*Banign\n",
      "-----------\n",
      "-Benign\n",
      "*Banign\n",
      "-----------\n",
      "-Malignant\n",
      "*Melignant\n",
      "-----------\n",
      "-Malignant\n",
      "*Melignant\n",
      "-----------\n",
      "-Benign\n",
      "*Banign\n",
      "-----------\n",
      "-Benign\n",
      "*Banign\n",
      "-----------\n",
      "-Malignant\n",
      "*Melignant\n",
      "-----------\n",
      "-Malignant\n",
      "*Melignant\n",
      "-----------\n"
     ]
    }
   ],
   "source": [
    "for i in range(30):\n",
    "  sample = X_test[i]\n",
    "  sample = np.reshape(sample, (1,30))\n",
    "\n",
    "  if (model.predict(sample)[0][0] > 0.5):\n",
    "    print(\"-Benign\")\n",
    "  else:\n",
    "    print(\"-Malignant\")\n",
    "\n",
    "  if (y_test[i] == 1):\n",
    "    print(\"*Banign\")\n",
    "  else:\n",
    "    print(\"*Melignant\")\n",
    "  print(\"-----------\")"
   ]
  },
  {
   "cell_type": "code",
   "execution_count": 25,
   "metadata": {
    "id": "9BqHv_pn867L"
   },
   "outputs": [
    {
     "name": "stdout",
     "output_type": "stream",
     "text": [
      "20\n"
     ]
    }
   ],
   "source": [
    "t = 0\n",
    "for i in y_val:\n",
    "  if (i == 1):\n",
    "    t += 1\n",
    "\n",
    "print(t)"
   ]
  },
  {
   "cell_type": "code",
   "execution_count": 26,
   "metadata": {
    "id": "rBBqR-XP9VpK"
   },
   "outputs": [
    {
     "name": "stdout",
     "output_type": "stream",
     "text": [
      "22\n"
     ]
    }
   ],
   "source": [
    "t = 0\n",
    "for i in y_test:\n",
    "  if (i == 1):\n",
    "    t += 1\n",
    "\n",
    "print(t)"
   ]
  },
  {
   "cell_type": "code",
   "execution_count": 27,
   "metadata": {
    "id": "wlZ0UePBEngy"
   },
   "outputs": [
    {
     "data": {
      "text/plain": [
       "array([ 0.05871402,  0.00906738,  0.06305822,  0.05960929,  0.0889588 ,\n",
       "        0.08793673,  0.1020585 ,  0.10428803,  0.09369001,  0.03285453,\n",
       "        0.0585313 ,  0.01176664,  0.06470343,  0.04910139, -0.00463422,\n",
       "        0.08114121,  0.08641289,  0.10221053,  0.00874549,  0.03937233,\n",
       "        0.05444593, -0.02251766,  0.06171987,  0.05589866,  0.01520489,\n",
       "        0.075742  ,  0.10896542,  0.09695722,  0.00335782,  0.01726656])"
      ]
     },
     "execution_count": 27,
     "metadata": {},
     "output_type": "execute_result"
    }
   ],
   "source": [
    "X_test[0] * -.1"
   ]
  },
  {
   "cell_type": "code",
   "execution_count": 28,
   "metadata": {
    "id": "FBKtTu9mEtxP"
   },
   "outputs": [
    {
     "data": {
      "text/plain": [
       "0.9942857142857143"
      ]
     },
     "execution_count": 28,
     "metadata": {},
     "output_type": "execute_result"
    }
   ],
   "source": [
    "348/350"
   ]
  },
  {
   "cell_type": "code",
   "execution_count": 29,
   "metadata": {
    "id": "ddEotDrBGbam"
   },
   "outputs": [
    {
     "data": {
      "text/plain": [
       "0.9914285714285714"
      ]
     },
     "execution_count": 29,
     "metadata": {},
     "output_type": "execute_result"
    }
   ],
   "source": [
    "347/350"
   ]
  },
  {
   "cell_type": "code",
   "execution_count": 30,
   "metadata": {
    "id": "gQhg6wwTGckE"
   },
   "outputs": [
    {
     "data": {
      "text/plain": [
       "0.9142857142857143"
      ]
     },
     "execution_count": 30,
     "metadata": {},
     "output_type": "execute_result"
    }
   ],
   "source": [
    "32/35"
   ]
  },
  {
   "cell_type": "code",
   "execution_count": null,
   "metadata": {
    "id": "J-X2emHxGeZr"
   },
   "outputs": [],
   "source": []
  }
 ],
 "metadata": {
  "colab": {
   "collapsed_sections": [],
   "name": "Breast Cancer Detection",
   "private_outputs": true,
   "provenance": []
  },
  "kernelspec": {
   "display_name": "Python 3 (ipykernel)",
   "language": "python",
   "name": "python3"
  },
  "language_info": {
   "codemirror_mode": {
    "name": "ipython",
    "version": 3
   },
   "file_extension": ".py",
   "mimetype": "text/x-python",
   "name": "python",
   "nbconvert_exporter": "python",
   "pygments_lexer": "ipython3",
   "version": "3.9.7"
  }
 },
 "nbformat": 4,
 "nbformat_minor": 1
}
