{
 "cells": [
  {
   "cell_type": "markdown",
   "id": "9354879c",
   "metadata": {},
   "source": [
    "# Summer Olympics Data Analysis Assignment\n",
    "\n",
    "## By: Vedant Deshmukh\n",
    "\n",
    "### A Python for ML/AI Intern at ELITE TECHNO GROUPS "
   ]
  },
  {
   "cell_type": "markdown",
   "id": "2f4a95d6",
   "metadata": {},
   "source": [
    "This is a dataset that contains all the winners at <b>Summer Olympics</b> between first summer olympics and 2012.\n",
    "\n",
    "### Questions to be answered:\n",
    "\n",
    "1. In how many cities Summer Olympics is held so far? <br>\n",
    "2. Which sport is having most number of Gold Medals so far? (Top 5) <br>\n",
    "3. Which sport is having most number of medals so far? (Top 5) <br>\n",
    "4. Which player has won most number of medals? (Top 5)<br>\n",
    "5. Which player has won most number Gold Medals of medals? (Top 5)<br>\n",
    "6. In which year India won first Gold Medal in Summer Olympics? <br>\n",
    "7. Which event is most popular in terms on number of players? (Top 5) <br>\n",
    "8. Which sport is having most female Gold Medalists? (Top 5) <br> \n",
    "    "
   ]
  },
  {
   "cell_type": "markdown",
   "id": "3ad29ec3",
   "metadata": {},
   "source": [
    "### Importing Required Libraries"
   ]
  },
  {
   "cell_type": "code",
   "execution_count": 1,
   "id": "38f1c828",
   "metadata": {},
   "outputs": [],
   "source": [
    "import numpy as np\n",
    "import pandas as pd\n",
    "import seaborn as sns\n",
    "import matplotlib.pyplot as plt"
   ]
  },
  {
   "cell_type": "markdown",
   "id": "6ab99b72",
   "metadata": {},
   "source": [
    "### Loading the Dataset"
   ]
  },
  {
   "cell_type": "code",
   "execution_count": 2,
   "id": "b4dec60b",
   "metadata": {},
   "outputs": [],
   "source": [
    "data = pd.read_csv(\"summer.csv\")"
   ]
  },
  {
   "cell_type": "markdown",
   "id": "575952e5",
   "metadata": {},
   "source": [
    "### Looking at Top 5 and Bottom 5 rows of the Data"
   ]
  },
  {
   "cell_type": "code",
   "execution_count": 3,
   "id": "7ec4ac0d",
   "metadata": {},
   "outputs": [
    {
     "data": {
      "text/html": [
       "<div>\n",
       "<style scoped>\n",
       "    .dataframe tbody tr th:only-of-type {\n",
       "        vertical-align: middle;\n",
       "    }\n",
       "\n",
       "    .dataframe tbody tr th {\n",
       "        vertical-align: top;\n",
       "    }\n",
       "\n",
       "    .dataframe thead th {\n",
       "        text-align: right;\n",
       "    }\n",
       "</style>\n",
       "<table border=\"1\" class=\"dataframe\">\n",
       "  <thead>\n",
       "    <tr style=\"text-align: right;\">\n",
       "      <th></th>\n",
       "      <th>Year</th>\n",
       "      <th>City</th>\n",
       "      <th>Sport</th>\n",
       "      <th>Discipline</th>\n",
       "      <th>Athlete</th>\n",
       "      <th>Country</th>\n",
       "      <th>Gender</th>\n",
       "      <th>Event</th>\n",
       "      <th>Medal</th>\n",
       "    </tr>\n",
       "  </thead>\n",
       "  <tbody>\n",
       "    <tr>\n",
       "      <th>0</th>\n",
       "      <td>1896</td>\n",
       "      <td>Athens</td>\n",
       "      <td>Aquatics</td>\n",
       "      <td>Swimming</td>\n",
       "      <td>HAJOS, Alfred</td>\n",
       "      <td>HUN</td>\n",
       "      <td>Men</td>\n",
       "      <td>100M Freestyle</td>\n",
       "      <td>Gold</td>\n",
       "    </tr>\n",
       "    <tr>\n",
       "      <th>1</th>\n",
       "      <td>1896</td>\n",
       "      <td>Athens</td>\n",
       "      <td>Aquatics</td>\n",
       "      <td>Swimming</td>\n",
       "      <td>HERSCHMANN, Otto</td>\n",
       "      <td>AUT</td>\n",
       "      <td>Men</td>\n",
       "      <td>100M Freestyle</td>\n",
       "      <td>Silver</td>\n",
       "    </tr>\n",
       "    <tr>\n",
       "      <th>2</th>\n",
       "      <td>1896</td>\n",
       "      <td>Athens</td>\n",
       "      <td>Aquatics</td>\n",
       "      <td>Swimming</td>\n",
       "      <td>DRIVAS, Dimitrios</td>\n",
       "      <td>GRE</td>\n",
       "      <td>Men</td>\n",
       "      <td>100M Freestyle For Sailors</td>\n",
       "      <td>Bronze</td>\n",
       "    </tr>\n",
       "    <tr>\n",
       "      <th>3</th>\n",
       "      <td>1896</td>\n",
       "      <td>Athens</td>\n",
       "      <td>Aquatics</td>\n",
       "      <td>Swimming</td>\n",
       "      <td>MALOKINIS, Ioannis</td>\n",
       "      <td>GRE</td>\n",
       "      <td>Men</td>\n",
       "      <td>100M Freestyle For Sailors</td>\n",
       "      <td>Gold</td>\n",
       "    </tr>\n",
       "    <tr>\n",
       "      <th>4</th>\n",
       "      <td>1896</td>\n",
       "      <td>Athens</td>\n",
       "      <td>Aquatics</td>\n",
       "      <td>Swimming</td>\n",
       "      <td>CHASAPIS, Spiridon</td>\n",
       "      <td>GRE</td>\n",
       "      <td>Men</td>\n",
       "      <td>100M Freestyle For Sailors</td>\n",
       "      <td>Silver</td>\n",
       "    </tr>\n",
       "  </tbody>\n",
       "</table>\n",
       "</div>"
      ],
      "text/plain": [
       "   Year    City     Sport Discipline             Athlete Country Gender  \\\n",
       "0  1896  Athens  Aquatics   Swimming       HAJOS, Alfred     HUN    Men   \n",
       "1  1896  Athens  Aquatics   Swimming    HERSCHMANN, Otto     AUT    Men   \n",
       "2  1896  Athens  Aquatics   Swimming   DRIVAS, Dimitrios     GRE    Men   \n",
       "3  1896  Athens  Aquatics   Swimming  MALOKINIS, Ioannis     GRE    Men   \n",
       "4  1896  Athens  Aquatics   Swimming  CHASAPIS, Spiridon     GRE    Men   \n",
       "\n",
       "                        Event   Medal  \n",
       "0              100M Freestyle    Gold  \n",
       "1              100M Freestyle  Silver  \n",
       "2  100M Freestyle For Sailors  Bronze  \n",
       "3  100M Freestyle For Sailors    Gold  \n",
       "4  100M Freestyle For Sailors  Silver  "
      ]
     },
     "execution_count": 3,
     "metadata": {},
     "output_type": "execute_result"
    }
   ],
   "source": [
    "data.head()"
   ]
  },
  {
   "cell_type": "code",
   "execution_count": 4,
   "id": "9f63667a",
   "metadata": {},
   "outputs": [
    {
     "data": {
      "text/html": [
       "<div>\n",
       "<style scoped>\n",
       "    .dataframe tbody tr th:only-of-type {\n",
       "        vertical-align: middle;\n",
       "    }\n",
       "\n",
       "    .dataframe tbody tr th {\n",
       "        vertical-align: top;\n",
       "    }\n",
       "\n",
       "    .dataframe thead th {\n",
       "        text-align: right;\n",
       "    }\n",
       "</style>\n",
       "<table border=\"1\" class=\"dataframe\">\n",
       "  <thead>\n",
       "    <tr style=\"text-align: right;\">\n",
       "      <th></th>\n",
       "      <th>Year</th>\n",
       "      <th>City</th>\n",
       "      <th>Sport</th>\n",
       "      <th>Discipline</th>\n",
       "      <th>Athlete</th>\n",
       "      <th>Country</th>\n",
       "      <th>Gender</th>\n",
       "      <th>Event</th>\n",
       "      <th>Medal</th>\n",
       "    </tr>\n",
       "  </thead>\n",
       "  <tbody>\n",
       "    <tr>\n",
       "      <th>31160</th>\n",
       "      <td>2012</td>\n",
       "      <td>London</td>\n",
       "      <td>Wrestling</td>\n",
       "      <td>Wrestling Freestyle</td>\n",
       "      <td>JANIKOWSKI, Damian</td>\n",
       "      <td>POL</td>\n",
       "      <td>Men</td>\n",
       "      <td>Wg 84 KG</td>\n",
       "      <td>Bronze</td>\n",
       "    </tr>\n",
       "    <tr>\n",
       "      <th>31161</th>\n",
       "      <td>2012</td>\n",
       "      <td>London</td>\n",
       "      <td>Wrestling</td>\n",
       "      <td>Wrestling Freestyle</td>\n",
       "      <td>REZAEI, Ghasem Gholamreza</td>\n",
       "      <td>IRI</td>\n",
       "      <td>Men</td>\n",
       "      <td>Wg 96 KG</td>\n",
       "      <td>Gold</td>\n",
       "    </tr>\n",
       "    <tr>\n",
       "      <th>31162</th>\n",
       "      <td>2012</td>\n",
       "      <td>London</td>\n",
       "      <td>Wrestling</td>\n",
       "      <td>Wrestling Freestyle</td>\n",
       "      <td>TOTROV, Rustam</td>\n",
       "      <td>RUS</td>\n",
       "      <td>Men</td>\n",
       "      <td>Wg 96 KG</td>\n",
       "      <td>Silver</td>\n",
       "    </tr>\n",
       "    <tr>\n",
       "      <th>31163</th>\n",
       "      <td>2012</td>\n",
       "      <td>London</td>\n",
       "      <td>Wrestling</td>\n",
       "      <td>Wrestling Freestyle</td>\n",
       "      <td>ALEKSANYAN, Artur</td>\n",
       "      <td>ARM</td>\n",
       "      <td>Men</td>\n",
       "      <td>Wg 96 KG</td>\n",
       "      <td>Bronze</td>\n",
       "    </tr>\n",
       "    <tr>\n",
       "      <th>31164</th>\n",
       "      <td>2012</td>\n",
       "      <td>London</td>\n",
       "      <td>Wrestling</td>\n",
       "      <td>Wrestling Freestyle</td>\n",
       "      <td>LIDBERG, Jimmy</td>\n",
       "      <td>SWE</td>\n",
       "      <td>Men</td>\n",
       "      <td>Wg 96 KG</td>\n",
       "      <td>Bronze</td>\n",
       "    </tr>\n",
       "  </tbody>\n",
       "</table>\n",
       "</div>"
      ],
      "text/plain": [
       "       Year    City      Sport           Discipline  \\\n",
       "31160  2012  London  Wrestling  Wrestling Freestyle   \n",
       "31161  2012  London  Wrestling  Wrestling Freestyle   \n",
       "31162  2012  London  Wrestling  Wrestling Freestyle   \n",
       "31163  2012  London  Wrestling  Wrestling Freestyle   \n",
       "31164  2012  London  Wrestling  Wrestling Freestyle   \n",
       "\n",
       "                         Athlete Country Gender     Event   Medal  \n",
       "31160         JANIKOWSKI, Damian     POL    Men  Wg 84 KG  Bronze  \n",
       "31161  REZAEI, Ghasem Gholamreza     IRI    Men  Wg 96 KG    Gold  \n",
       "31162             TOTROV, Rustam     RUS    Men  Wg 96 KG  Silver  \n",
       "31163          ALEKSANYAN, Artur     ARM    Men  Wg 96 KG  Bronze  \n",
       "31164             LIDBERG, Jimmy     SWE    Men  Wg 96 KG  Bronze  "
      ]
     },
     "execution_count": 4,
     "metadata": {},
     "output_type": "execute_result"
    }
   ],
   "source": [
    "data.tail()"
   ]
  },
  {
   "cell_type": "markdown",
   "id": "49e1ce69",
   "metadata": {},
   "source": [
    "### Getting the Shape of the Dataset"
   ]
  },
  {
   "cell_type": "code",
   "execution_count": 5,
   "id": "f01f1ed3",
   "metadata": {},
   "outputs": [
    {
     "data": {
      "text/plain": [
       "(31165, 9)"
      ]
     },
     "execution_count": 5,
     "metadata": {},
     "output_type": "execute_result"
    }
   ],
   "source": [
    "data.shape"
   ]
  },
  {
   "cell_type": "markdown",
   "id": "505630e5",
   "metadata": {},
   "source": [
    "### Checking for Null Values"
   ]
  },
  {
   "cell_type": "code",
   "execution_count": 6,
   "id": "b17ea766",
   "metadata": {},
   "outputs": [
    {
     "name": "stdout",
     "output_type": "stream",
     "text": [
      "<class 'pandas.core.frame.DataFrame'>\n",
      "RangeIndex: 31165 entries, 0 to 31164\n",
      "Data columns (total 9 columns):\n",
      " #   Column      Non-Null Count  Dtype \n",
      "---  ------      --------------  ----- \n",
      " 0   Year        31165 non-null  int64 \n",
      " 1   City        31165 non-null  object\n",
      " 2   Sport       31165 non-null  object\n",
      " 3   Discipline  31165 non-null  object\n",
      " 4   Athlete     31165 non-null  object\n",
      " 5   Country     31161 non-null  object\n",
      " 6   Gender      31165 non-null  object\n",
      " 7   Event       31165 non-null  object\n",
      " 8   Medal       31165 non-null  object\n",
      "dtypes: int64(1), object(8)\n",
      "memory usage: 2.1+ MB\n"
     ]
    }
   ],
   "source": [
    "data.info()"
   ]
  },
  {
   "cell_type": "code",
   "execution_count": 7,
   "id": "b5fe492d",
   "metadata": {},
   "outputs": [
    {
     "data": {
      "text/plain": [
       "Year          0\n",
       "City          0\n",
       "Sport         0\n",
       "Discipline    0\n",
       "Athlete       0\n",
       "Country       4\n",
       "Gender        0\n",
       "Event         0\n",
       "Medal         0\n",
       "dtype: int64"
      ]
     },
     "execution_count": 7,
     "metadata": {},
     "output_type": "execute_result"
    }
   ],
   "source": [
    "data.isnull().sum()"
   ]
  },
  {
   "cell_type": "markdown",
   "id": "058480f1",
   "metadata": {},
   "source": [
    "There are some null values present. But I am Instructed to neglect them and perform my analysis without handling them."
   ]
  },
  {
   "cell_type": "code",
   "execution_count": 8,
   "id": "10d2343d",
   "metadata": {},
   "outputs": [
    {
     "data": {
      "text/plain": [
       "Index(['Year', 'City', 'Sport', 'Discipline', 'Athlete', 'Country', 'Gender',\n",
       "       'Event', 'Medal'],\n",
       "      dtype='object')"
      ]
     },
     "execution_count": 8,
     "metadata": {},
     "output_type": "execute_result"
    }
   ],
   "source": [
    "col_names = data.columns  #Getting the list of column names in the dataset\n",
    "col_names"
   ]
  },
  {
   "cell_type": "markdown",
   "id": "595c2463",
   "metadata": {},
   "source": [
    "# FINDING ANSWERS TO THE QUESTIONS"
   ]
  },
  {
   "cell_type": "markdown",
   "id": "f5b8f0e8",
   "metadata": {},
   "source": [
    "### 1. In how many cities Summer Olympics is held so far?"
   ]
  },
  {
   "cell_type": "code",
   "execution_count": 9,
   "id": "f55abe51",
   "metadata": {},
   "outputs": [
    {
     "data": {
      "text/plain": [
       "array(['Athens', 'Paris', 'St Louis', 'London', 'Stockholm', 'Antwerp',\n",
       "       'Amsterdam', 'Los Angeles', 'Berlin', 'Helsinki',\n",
       "       'Melbourne / Stockholm', 'Rome', 'Tokyo', 'Mexico', 'Munich',\n",
       "       'Montreal', 'Moscow', 'Seoul', 'Barcelona', 'Atlanta', 'Sydney',\n",
       "       'Beijing'], dtype=object)"
      ]
     },
     "execution_count": 9,
     "metadata": {},
     "output_type": "execute_result"
    }
   ],
   "source": [
    "#We need tp find the no. of unique cities in the dataset\n",
    "df = data[\"City\"].unique()\n",
    "df"
   ]
  },
  {
   "cell_type": "code",
   "execution_count": 10,
   "id": "ec3ac531",
   "metadata": {},
   "outputs": [
    {
     "name": "stdout",
     "output_type": "stream",
     "text": [
      "No. of cities in which Summer olympics are held  =  22\n"
     ]
    }
   ],
   "source": [
    "ans  = len(df)\n",
    "print(\"No. of cities in which Summer olympics are held  =  \" + str(ans))"
   ]
  },
  {
   "cell_type": "markdown",
   "id": "57d5f6a8",
   "metadata": {},
   "source": [
    "<b>Answer 1 : </b> No. of cities in which Summer olympics are held  are 22"
   ]
  },
  {
   "cell_type": "markdown",
   "id": "318f2557",
   "metadata": {},
   "source": [
    "### 2. Which sport is having most number of Gold Medals so far? (Top 5)"
   ]
  },
  {
   "cell_type": "code",
   "execution_count": 11,
   "id": "6905d1c7",
   "metadata": {},
   "outputs": [
    {
     "data": {
      "text/plain": [
       "Sport              Medal\n",
       "Aquatics           Gold     1421\n",
       "Athletics          Gold     1215\n",
       "Rowing             Gold      890\n",
       "Gymnastics         Gold      820\n",
       "Fencing            Gold      552\n",
       "Football           Gold      503\n",
       "Hockey             Gold      486\n",
       "Sailing            Gold      412\n",
       "Wrestling          Gold      391\n",
       "Shooting           Gold      384\n",
       "Cycling            Gold      371\n",
       "Basketball         Gold      342\n",
       "Canoe / Kayak      Gold      334\n",
       "Volleyball         Gold      332\n",
       "Handball           Gold      321\n",
       "Equestrian         Gold      320\n",
       "Boxing             Gold      239\n",
       "Weightlifting      Gold      200\n",
       "Archery            Gold      126\n",
       "Judo               Gold      123\n",
       "Baseball           Gold      111\n",
       "Tennis             Gold       92\n",
       "Rugby              Gold       78\n",
       "Softball           Gold       60\n",
       "Modern Pentathlon  Gold       60\n",
       "Badminton          Gold       46\n",
       "Table Tennis       Gold       46\n",
       "Tug of War         Gold       36\n",
       "Taekwondo          Gold       32\n",
       "Lacrosse           Gold       28\n",
       "Canoe              Gold       27\n",
       "Polo               Gold       22\n",
       "Golf               Gold       13\n",
       "Cricket            Gold       12\n",
       "Skating            Gold        9\n",
       "Ice Hockey         Gold        8\n",
       "Triathlon          Gold        8\n",
       "Water Motorsports  Gold        5\n",
       "Croquet            Gold        4\n",
       "Rackets            Gold        3\n",
       "Basque Pelota      Gold        2\n",
       "Roque              Gold        1\n",
       "Jeu de paume       Gold        1\n",
       "Name: Medal, dtype: int64"
      ]
     },
     "execution_count": 11,
     "metadata": {},
     "output_type": "execute_result"
    }
   ],
   "source": [
    "df =  data[data['Medal'] == 'Gold']\n",
    "df = df[['Sport', 'Medal']]\n",
    "df =  df.groupby('Sport')['Medal'].value_counts()\n",
    "df = df.sort_values(ascending = False)\n",
    "df"
   ]
  },
  {
   "cell_type": "markdown",
   "id": "b564398d",
   "metadata": {},
   "source": [
    "The <b>above counts</b> are already in <b>descending order.</b> So the <b>Top 5</b> can be found out easily"
   ]
  },
  {
   "cell_type": "code",
   "execution_count": 12,
   "id": "3c4adc32",
   "metadata": {},
   "outputs": [
    {
     "data": {
      "text/plain": [
       "array([1421, 1215,  890,  820,  552,  503,  486,  412,  391,  384,  371,\n",
       "        342,  334,  332,  321,  320,  239,  200,  126,  123,  111,   92,\n",
       "         78,   60,   60,   46,   46,   36,   32,   28,   27,   22,   13,\n",
       "         12,    9,    8,    8,    5,    4,    3,    2,    1,    1],\n",
       "      dtype=int64)"
      ]
     },
     "execution_count": 12,
     "metadata": {},
     "output_type": "execute_result"
    }
   ],
   "source": [
    "df.values"
   ]
  },
  {
   "cell_type": "code",
   "execution_count": 13,
   "id": "6538e218",
   "metadata": {},
   "outputs": [
    {
     "name": "stdout",
     "output_type": "stream",
     "text": [
      "['Aquatics', 'Athletics', 'Rowing', 'Gymnastics', 'Fencing', 'Football', 'Hockey', 'Sailing', 'Wrestling', 'Shooting', 'Cycling', 'Basketball', 'Canoe / Kayak', 'Volleyball', 'Handball', 'Equestrian', 'Boxing', 'Weightlifting', 'Archery', 'Judo', 'Baseball', 'Tennis', 'Rugby', 'Softball', 'Modern Pentathlon', 'Badminton', 'Table Tennis', 'Tug of War', 'Taekwondo', 'Lacrosse', 'Canoe', 'Polo', 'Golf', 'Cricket', 'Skating', 'Ice Hockey', 'Triathlon', 'Water Motorsports', 'Croquet', 'Rackets', 'Basque Pelota', 'Roque', 'Jeu de paume']\n"
     ]
    }
   ],
   "source": [
    "arr_ind = []\n",
    "i = 0\n",
    "for i in range (0,len(df)):\n",
    "    arr_ind.append(df.index[i][0])\n",
    "print(arr_ind)"
   ]
  },
  {
   "cell_type": "code",
   "execution_count": 14,
   "id": "17c7aadf",
   "metadata": {},
   "outputs": [
    {
     "data": {
      "image/png": "[encoded data removed]",
      "text/plain": [
       "<Figure size 1080x1080 with 1 Axes>"
      ]
     },
     "metadata": {
      "needs_background": "light"
     },
     "output_type": "display_data"
    }
   ],
   "source": [
    "fig,ax = plt.subplots()\n",
    "fig.set_size_inches(15, 15)\n",
    "ax.bar(arr_ind, df.values)\n",
    "ax.set_title('Top 5 Sports based on No. of Gold Medals')\n",
    "lst  = [i+3 for i in range (1, (len(df)*3) +1)]\n",
    "for i,j in zip(lst, df.values):\n",
    "    plt.text( i-4.5 , j+1.25, s = str(j) )\n",
    "plt.xticks(rotation =  90)\n",
    "plt.grid(True)\n",
    "plt.show()"
   ]
  },
  {
   "cell_type": "code",
   "execution_count": 15,
   "id": "33d540d6",
   "metadata": {},
   "outputs": [
    {
     "name": "stdout",
     "output_type": "stream",
     "text": [
      "Answer 2: Top 5 sports based on most number of gold medals : ['Aquatics', 'Athletics', 'Rowing', 'Gymnastics', 'Fencing']\n"
     ]
    }
   ],
   "source": [
    "print(\"Answer 2: Top 5 sports based on most number of gold medals : \" + str(arr_ind[0:5]))"
   ]
  },
  {
   "cell_type": "markdown",
   "id": "32d70359",
   "metadata": {},
   "source": [
    "### 3. Which sport is having most number of medals so far? (Top 5)"
   ]
  },
  {
   "cell_type": "code",
   "execution_count": 16,
   "id": "3fb9b497",
   "metadata": {},
   "outputs": [],
   "source": [
    "sport =  data['Sport'].unique()"
   ]
  },
  {
   "cell_type": "code",
   "execution_count": 17,
   "id": "19025e6e",
   "metadata": {},
   "outputs": [
    {
     "data": {
      "text/plain": [
       "array(['Aquatics', 'Athletics', 'Cycling', 'Fencing', 'Gymnastics',\n",
       "       'Shooting', 'Tennis', 'Weightlifting', 'Wrestling', 'Archery',\n",
       "       'Basque Pelota', 'Cricket', 'Croquet', 'Equestrian', 'Football',\n",
       "       'Golf', 'Polo', 'Rowing', 'Rugby', 'Sailing', 'Tug of War',\n",
       "       'Boxing', 'Lacrosse', 'Roque', 'Hockey', 'Jeu de paume', 'Rackets',\n",
       "       'Skating', 'Water Motorsports', 'Modern Pentathlon', 'Ice Hockey',\n",
       "       'Basketball', 'Canoe / Kayak', 'Handball', 'Judo', 'Volleyball',\n",
       "       'Table Tennis', 'Badminton', 'Baseball', 'Softball', 'Taekwondo',\n",
       "       'Triathlon', 'Canoe'], dtype=object)"
      ]
     },
     "execution_count": 17,
     "metadata": {},
     "output_type": "execute_result"
    }
   ],
   "source": [
    "sport"
   ]
  },
  {
   "cell_type": "code",
   "execution_count": 18,
   "id": "44d19b81",
   "metadata": {},
   "outputs": [
    {
     "data": {
      "text/plain": [
       "Aquatics             4170\n",
       "Athletics            3638\n",
       "Rowing               2667\n",
       "Gymnastics           2307\n",
       "Fencing              1613\n",
       "Football             1497\n",
       "Hockey               1422\n",
       "Wrestling            1212\n",
       "Shooting             1150\n",
       "Sailing              1109\n",
       "Cycling              1105\n",
       "Basketball           1012\n",
       "Canoe / Kayak        1002\n",
       "Volleyball            994\n",
       "Handball              973\n",
       "Equestrian            939\n",
       "Boxing                894\n",
       "Weightlifting         593\n",
       "Judo                  491\n",
       "Baseball              335\n",
       "Archery               329\n",
       "Tennis                296\n",
       "Rugby                 192\n",
       "Softball              180\n",
       "Modern Pentathlon     180\n",
       "Badminton             144\n",
       "Table Tennis          144\n",
       "Taekwondo             112\n",
       "Tug of War             94\n",
       "Canoe                  81\n",
       "Polo                   66\n",
       "Lacrosse               59\n",
       "Golf                   30\n",
       "Skating                27\n",
       "Ice Hockey             27\n",
       "Cricket                24\n",
       "Triathlon              24\n",
       "Rackets                10\n",
       "Croquet                 8\n",
       "Water Motorsports       5\n",
       "Basque Pelota           4\n",
       "Jeu de paume            3\n",
       "Roque                   3\n",
       "Name: Sport, dtype: int64"
      ]
     },
     "execution_count": 18,
     "metadata": {},
     "output_type": "execute_result"
    }
   ],
   "source": [
    "df = data['Sport'].value_counts()\n",
    "df"
   ]
  },
  {
   "cell_type": "markdown",
   "id": "85709756",
   "metadata": {},
   "source": [
    "The <b>above counts</b> are already in <b>descending order.</b> So the <b>Top 5</b> can be found out easily"
   ]
  },
  {
   "cell_type": "code",
   "execution_count": 19,
   "id": "2d631079",
   "metadata": {},
   "outputs": [
    {
     "data": {
      "text/plain": [
       "array([4170, 3638, 2667, 2307, 1613, 1497, 1422, 1212, 1150, 1109, 1105,\n",
       "       1012, 1002,  994,  973,  939,  894,  593,  491,  335,  329,  296,\n",
       "        192,  180,  180,  144,  144,  112,   94,   81,   66,   59,   30,\n",
       "         27,   27,   24,   24,   10,    8,    5,    4,    3,    3],\n",
       "      dtype=int64)"
      ]
     },
     "execution_count": 19,
     "metadata": {},
     "output_type": "execute_result"
    }
   ],
   "source": [
    "df.values"
   ]
  },
  {
   "cell_type": "code",
   "execution_count": 20,
   "id": "c741fc79",
   "metadata": {},
   "outputs": [
    {
     "data": {
      "image/png": "[encoded data removed]",
      "text/plain": [
       "<Figure size 1080x1080 with 1 Axes>"
      ]
     },
     "metadata": {
      "needs_background": "light"
     },
     "output_type": "display_data"
    }
   ],
   "source": [
    "fig,ax = plt.subplots()\n",
    "fig.set_size_inches(15, 15)\n",
    "plt.bar(df.index, df.values)\n",
    "plt.title('Top 5 Sports based on No. of Medals')\n",
    "lst  = [i+3 for i in range (1, (len(df)*3) +1)]\n",
    "for i,j in zip(lst, df.values):\n",
    "    plt.text( i-4.5 , j+1.25, s = str(j) )\n",
    "plt.xticks(rotation =  90)\n",
    "plt.grid(True)\n",
    "plt.show()"
   ]
  },
  {
   "cell_type": "code",
   "execution_count": 21,
   "id": "fc02587f",
   "metadata": {},
   "outputs": [
    {
     "name": "stdout",
     "output_type": "stream",
     "text": [
      "Answer 3 : Top 5 sports based on most number of medals : Index(['Aquatics', 'Athletics', 'Rowing', 'Gymnastics', 'Fencing'], dtype='object')\n"
     ]
    }
   ],
   "source": [
    "print(\"Answer 3 : Top 5 sports based on most number of medals : \" + str(df.index[0:5]))"
   ]
  },
  {
   "cell_type": "markdown",
   "id": "6c50f248",
   "metadata": {},
   "source": [
    "### 4. Which player has won most number of medals? (Top 5)"
   ]
  },
  {
   "cell_type": "code",
   "execution_count": 22,
   "id": "4623dcab",
   "metadata": {},
   "outputs": [
    {
     "data": {
      "text/html": [
       "<div>\n",
       "<style scoped>\n",
       "    .dataframe tbody tr th:only-of-type {\n",
       "        vertical-align: middle;\n",
       "    }\n",
       "\n",
       "    .dataframe tbody tr th {\n",
       "        vertical-align: top;\n",
       "    }\n",
       "\n",
       "    .dataframe thead th {\n",
       "        text-align: right;\n",
       "    }\n",
       "</style>\n",
       "<table border=\"1\" class=\"dataframe\">\n",
       "  <thead>\n",
       "    <tr style=\"text-align: right;\">\n",
       "      <th></th>\n",
       "      <th>Athlete</th>\n",
       "      <th>Medal</th>\n",
       "    </tr>\n",
       "  </thead>\n",
       "  <tbody>\n",
       "    <tr>\n",
       "      <th>0</th>\n",
       "      <td>HAJOS, Alfred</td>\n",
       "      <td>Gold</td>\n",
       "    </tr>\n",
       "    <tr>\n",
       "      <th>1</th>\n",
       "      <td>HERSCHMANN, Otto</td>\n",
       "      <td>Silver</td>\n",
       "    </tr>\n",
       "    <tr>\n",
       "      <th>2</th>\n",
       "      <td>DRIVAS, Dimitrios</td>\n",
       "      <td>Bronze</td>\n",
       "    </tr>\n",
       "    <tr>\n",
       "      <th>3</th>\n",
       "      <td>MALOKINIS, Ioannis</td>\n",
       "      <td>Gold</td>\n",
       "    </tr>\n",
       "    <tr>\n",
       "      <th>4</th>\n",
       "      <td>CHASAPIS, Spiridon</td>\n",
       "      <td>Silver</td>\n",
       "    </tr>\n",
       "    <tr>\n",
       "      <th>...</th>\n",
       "      <td>...</td>\n",
       "      <td>...</td>\n",
       "    </tr>\n",
       "    <tr>\n",
       "      <th>31160</th>\n",
       "      <td>JANIKOWSKI, Damian</td>\n",
       "      <td>Bronze</td>\n",
       "    </tr>\n",
       "    <tr>\n",
       "      <th>31161</th>\n",
       "      <td>REZAEI, Ghasem Gholamreza</td>\n",
       "      <td>Gold</td>\n",
       "    </tr>\n",
       "    <tr>\n",
       "      <th>31162</th>\n",
       "      <td>TOTROV, Rustam</td>\n",
       "      <td>Silver</td>\n",
       "    </tr>\n",
       "    <tr>\n",
       "      <th>31163</th>\n",
       "      <td>ALEKSANYAN, Artur</td>\n",
       "      <td>Bronze</td>\n",
       "    </tr>\n",
       "    <tr>\n",
       "      <th>31164</th>\n",
       "      <td>LIDBERG, Jimmy</td>\n",
       "      <td>Bronze</td>\n",
       "    </tr>\n",
       "  </tbody>\n",
       "</table>\n",
       "<p>31165 rows × 2 columns</p>\n",
       "</div>"
      ],
      "text/plain": [
       "                         Athlete   Medal\n",
       "0                  HAJOS, Alfred    Gold\n",
       "1               HERSCHMANN, Otto  Silver\n",
       "2              DRIVAS, Dimitrios  Bronze\n",
       "3             MALOKINIS, Ioannis    Gold\n",
       "4             CHASAPIS, Spiridon  Silver\n",
       "...                          ...     ...\n",
       "31160         JANIKOWSKI, Damian  Bronze\n",
       "31161  REZAEI, Ghasem Gholamreza    Gold\n",
       "31162             TOTROV, Rustam  Silver\n",
       "31163          ALEKSANYAN, Artur  Bronze\n",
       "31164             LIDBERG, Jimmy  Bronze\n",
       "\n",
       "[31165 rows x 2 columns]"
      ]
     },
     "execution_count": 22,
     "metadata": {},
     "output_type": "execute_result"
    }
   ],
   "source": [
    "df  = data[['Athlete', 'Medal']]\n",
    "df"
   ]
  },
  {
   "cell_type": "code",
   "execution_count": 23,
   "id": "2dd9512d",
   "metadata": {},
   "outputs": [
    {
     "data": {
      "text/plain": [
       "PHELPS, Michael          22\n",
       "LATYNINA, Larisa         18\n",
       "ANDRIANOV, Nikolay       15\n",
       "ONO, Takashi             13\n",
       "MANGIAROTTI, Edoardo     13\n",
       "                         ..\n",
       "ZAKA, Uddin               1\n",
       "ZAFAR, Hayat              1\n",
       "MUHAMMAD, Rashid          1\n",
       "MANNA, Muhammad Afzal     1\n",
       "LIDBERG, Jimmy            1\n",
       "Name: Athlete, Length: 22762, dtype: int64"
      ]
     },
     "execution_count": 23,
     "metadata": {},
     "output_type": "execute_result"
    }
   ],
   "source": [
    "ath = df['Athlete'].value_counts()\n",
    "ath"
   ]
  },
  {
   "cell_type": "markdown",
   "id": "4781356b",
   "metadata": {},
   "source": [
    "The <b>above counts</b> are already in <b>descending order.</b> So the <b>Top 5</b> can be found out easily."
   ]
  },
  {
   "cell_type": "code",
   "execution_count": 24,
   "id": "26312706",
   "metadata": {},
   "outputs": [],
   "source": [
    "ath = ath[0:5]"
   ]
  },
  {
   "cell_type": "code",
   "execution_count": 25,
   "id": "737bb119",
   "metadata": {},
   "outputs": [
    {
     "data": {
      "text/plain": [
       "Index(['PHELPS, Michael', 'LATYNINA, Larisa', 'ANDRIANOV, Nikolay',\n",
       "       'ONO, Takashi', 'MANGIAROTTI, Edoardo'],\n",
       "      dtype='object')"
      ]
     },
     "execution_count": 25,
     "metadata": {},
     "output_type": "execute_result"
    }
   ],
   "source": [
    "ath.index"
   ]
  },
  {
   "cell_type": "code",
   "execution_count": 26,
   "id": "f636bf28",
   "metadata": {},
   "outputs": [
    {
     "data": {
      "text/plain": [
       "array([22, 18, 15, 13, 13], dtype=int64)"
      ]
     },
     "execution_count": 26,
     "metadata": {},
     "output_type": "execute_result"
    }
   ],
   "source": [
    "ath.values"
   ]
  },
  {
   "cell_type": "code",
   "execution_count": 27,
   "id": "4140d0e7",
   "metadata": {},
   "outputs": [
    {
     "data": {
      "image/png": "[encoded data removed]",
      "text/plain": [
       "<Figure size 432x288 with 1 Axes>"
      ]
     },
     "metadata": {
      "needs_background": "light"
     },
     "output_type": "display_data"
    }
   ],
   "source": [
    "plt.bar(ath.index, ath.values)\n",
    "plt.title('Top 5 Players based on No. of Medals')\n",
    "lst = [1,2,3,4,5]\n",
    "for i,j in zip(lst, ath.values):\n",
    "    plt.text( i - 0.75, j, s = str(j) )\n",
    "plt.xticks(rotation =  60)\n",
    "plt.grid(True)\n",
    "plt.show()"
   ]
  },
  {
   "cell_type": "code",
   "execution_count": 28,
   "id": "a5e2355d",
   "metadata": {},
   "outputs": [
    {
     "name": "stdout",
     "output_type": "stream",
     "text": [
      "Answer 4 : Top 5 Players based on number of medals: Index(['PHELPS, Michael', 'LATYNINA, Larisa', 'ANDRIANOV, Nikolay',\n",
      "       'ONO, Takashi', 'MANGIAROTTI, Edoardo'],\n",
      "      dtype='object')\n"
     ]
    }
   ],
   "source": [
    "print(\"Answer 4 : Top 5 Players based on number of medals: \" + str(ath.index))"
   ]
  },
  {
   "cell_type": "markdown",
   "id": "17f25d4c",
   "metadata": {},
   "source": [
    "### 5. Which player has won most number Gold Medals of medals (Top 5) ?"
   ]
  },
  {
   "cell_type": "code",
   "execution_count": 29,
   "id": "aab248b0",
   "metadata": {},
   "outputs": [
    {
     "data": {
      "text/plain": [
       "Athlete               Medal\n",
       "PHELPS, Michael       Gold     18\n",
       "LEWIS, Carl           Gold      9\n",
       "NURMI, Paavo          Gold      9\n",
       "SPITZ, Mark           Gold      9\n",
       "LATYNINA, Larisa      Gold      9\n",
       "                               ..\n",
       "HORMANN, Raimund      Gold      1\n",
       "HORKAI, Gyorgy        Gold      1\n",
       "HOPP, Karl Heinz      Gold      1\n",
       "HOOPMAN, Beau         Gold      1\n",
       "ÖSTERVOLD, Ole Olsen  Gold      1\n",
       "Name: Medal, Length: 8287, dtype: int64"
      ]
     },
     "execution_count": 29,
     "metadata": {},
     "output_type": "execute_result"
    }
   ],
   "source": [
    "df =  data[data['Medal'] == 'Gold']\n",
    "df = df[['Athlete', 'Medal']]\n",
    "df =  df.groupby('Athlete')['Medal'].value_counts()\n",
    "df = df.sort_values(ascending = False)\n",
    "df"
   ]
  },
  {
   "cell_type": "markdown",
   "id": "ed106617",
   "metadata": {},
   "source": [
    "The <b>above counts</b> are already in <b>descending order.</b> So the <b>Top 5</b> can be found out easily."
   ]
  },
  {
   "cell_type": "code",
   "execution_count": 30,
   "id": "0ea7c8c4",
   "metadata": {},
   "outputs": [
    {
     "data": {
      "text/plain": [
       "Athlete           Medal\n",
       "PHELPS, Michael   Gold     18\n",
       "LEWIS, Carl       Gold      9\n",
       "NURMI, Paavo      Gold      9\n",
       "SPITZ, Mark       Gold      9\n",
       "LATYNINA, Larisa  Gold      9\n",
       "Name: Medal, dtype: int64"
      ]
     },
     "execution_count": 30,
     "metadata": {},
     "output_type": "execute_result"
    }
   ],
   "source": [
    "arr  = df[0:5]\n",
    "arr"
   ]
  },
  {
   "cell_type": "code",
   "execution_count": 31,
   "id": "797263e7",
   "metadata": {},
   "outputs": [
    {
     "name": "stdout",
     "output_type": "stream",
     "text": [
      "['PHELPS, Michael', 'LEWIS, Carl', 'NURMI, Paavo', 'SPITZ, Mark', 'LATYNINA, Larisa']\n"
     ]
    }
   ],
   "source": [
    "arr_ind = []\n",
    "i = 0\n",
    "for i in range (0,5):\n",
    "    arr_ind.append(arr.index[i][0])\n",
    "print(arr_ind)"
   ]
  },
  {
   "cell_type": "code",
   "execution_count": 32,
   "id": "f851e5d6",
   "metadata": {},
   "outputs": [
    {
     "data": {
      "text/plain": [
       "['PHELPS, Michael',\n",
       " 'LEWIS, Carl',\n",
       " 'NURMI, Paavo',\n",
       " 'SPITZ, Mark',\n",
       " 'LATYNINA, Larisa']"
      ]
     },
     "execution_count": 32,
     "metadata": {},
     "output_type": "execute_result"
    }
   ],
   "source": [
    "arr_ind"
   ]
  },
  {
   "cell_type": "code",
   "execution_count": 33,
   "id": "ed0e537c",
   "metadata": {},
   "outputs": [
    {
     "data": {
      "image/png": "[encoded data removed]",
      "text/plain": [
       "<Figure size 648x648 with 1 Axes>"
      ]
     },
     "metadata": {
      "needs_background": "light"
     },
     "output_type": "display_data"
    }
   ],
   "source": [
    "fig,ax = plt.subplots()\n",
    "fig.set_size_inches(9,9)\n",
    "ax.bar(arr_ind, arr.values)\n",
    "ax.set_title('Top 5 Players based on No. of Gold Medals')\n",
    "lst = [1,2,3,4,5]\n",
    "for i,j in zip(lst, arr.values):\n",
    "    ax.text( i - 1, j+0.5, s = str(j) )\n",
    "plt.grid(True)\n",
    "plt.xticks(rotation=90)\n",
    "plt.show()"
   ]
  },
  {
   "cell_type": "code",
   "execution_count": 34,
   "id": "c6ec7431",
   "metadata": {},
   "outputs": [
    {
     "name": "stdout",
     "output_type": "stream",
     "text": [
      "Answer 5 : Top 5 Players based on most Gold Medals: ['PHELPS, Michael', 'LEWIS, Carl', 'NURMI, Paavo', 'SPITZ, Mark', 'LATYNINA, Larisa']\n"
     ]
    }
   ],
   "source": [
    "print(\"Answer 5 : Top 5 Players based on most Gold Medals: \" + str(arr_ind))"
   ]
  },
  {
   "cell_type": "markdown",
   "id": "a48725b7",
   "metadata": {},
   "source": [
    "### 6. In which year India won first Gold Medal in Summer Olympics?"
   ]
  },
  {
   "cell_type": "code",
   "execution_count": 35,
   "id": "46f7979c",
   "metadata": {},
   "outputs": [
    {
     "data": {
      "text/html": [
       "<div>\n",
       "<style scoped>\n",
       "    .dataframe tbody tr th:only-of-type {\n",
       "        vertical-align: middle;\n",
       "    }\n",
       "\n",
       "    .dataframe tbody tr th {\n",
       "        vertical-align: top;\n",
       "    }\n",
       "\n",
       "    .dataframe thead th {\n",
       "        text-align: right;\n",
       "    }\n",
       "</style>\n",
       "<table border=\"1\" class=\"dataframe\">\n",
       "  <thead>\n",
       "    <tr style=\"text-align: right;\">\n",
       "      <th></th>\n",
       "      <th>Country</th>\n",
       "      <th>Year</th>\n",
       "    </tr>\n",
       "  </thead>\n",
       "  <tbody>\n",
       "    <tr>\n",
       "      <th>241</th>\n",
       "      <td>IND</td>\n",
       "      <td>1900</td>\n",
       "    </tr>\n",
       "  </tbody>\n",
       "</table>\n",
       "</div>"
      ],
      "text/plain": [
       "    Country  Year\n",
       "241     IND  1900"
      ]
     },
     "execution_count": 35,
     "metadata": {},
     "output_type": "execute_result"
    }
   ],
   "source": [
    "temp =  data[data['Country'] == 'IND']\n",
    "temp[['Country', 'Year']].sort_values('Year', ascending =  True).head(1)"
   ]
  },
  {
   "cell_type": "markdown",
   "id": "76f4b3b4",
   "metadata": {},
   "source": [
    "<b>Answer 6 : </b>The year in which India won first Gold Medal in Summer Olympics is 1900."
   ]
  },
  {
   "cell_type": "markdown",
   "id": "fb293dce",
   "metadata": {},
   "source": [
    "### 7. Which event is most popular in terms on number of players? (Top 5)"
   ]
  },
  {
   "cell_type": "code",
   "execution_count": 36,
   "id": "57ce821b",
   "metadata": {},
   "outputs": [
    {
     "data": {
      "text/html": [
       "<div>\n",
       "<style scoped>\n",
       "    .dataframe tbody tr th:only-of-type {\n",
       "        vertical-align: middle;\n",
       "    }\n",
       "\n",
       "    .dataframe tbody tr th {\n",
       "        vertical-align: top;\n",
       "    }\n",
       "\n",
       "    .dataframe thead th {\n",
       "        text-align: right;\n",
       "    }\n",
       "</style>\n",
       "<table border=\"1\" class=\"dataframe\">\n",
       "  <thead>\n",
       "    <tr style=\"text-align: right;\">\n",
       "      <th></th>\n",
       "      <th>Athlete</th>\n",
       "      <th>Event</th>\n",
       "    </tr>\n",
       "  </thead>\n",
       "  <tbody>\n",
       "    <tr>\n",
       "      <th>0</th>\n",
       "      <td>HAJOS, Alfred</td>\n",
       "      <td>100M Freestyle</td>\n",
       "    </tr>\n",
       "    <tr>\n",
       "      <th>1</th>\n",
       "      <td>HERSCHMANN, Otto</td>\n",
       "      <td>100M Freestyle</td>\n",
       "    </tr>\n",
       "    <tr>\n",
       "      <th>2</th>\n",
       "      <td>DRIVAS, Dimitrios</td>\n",
       "      <td>100M Freestyle For Sailors</td>\n",
       "    </tr>\n",
       "    <tr>\n",
       "      <th>3</th>\n",
       "      <td>MALOKINIS, Ioannis</td>\n",
       "      <td>100M Freestyle For Sailors</td>\n",
       "    </tr>\n",
       "    <tr>\n",
       "      <th>4</th>\n",
       "      <td>CHASAPIS, Spiridon</td>\n",
       "      <td>100M Freestyle For Sailors</td>\n",
       "    </tr>\n",
       "  </tbody>\n",
       "</table>\n",
       "</div>"
      ],
      "text/plain": [
       "              Athlete                       Event\n",
       "0       HAJOS, Alfred              100M Freestyle\n",
       "1    HERSCHMANN, Otto              100M Freestyle\n",
       "2   DRIVAS, Dimitrios  100M Freestyle For Sailors\n",
       "3  MALOKINIS, Ioannis  100M Freestyle For Sailors\n",
       "4  CHASAPIS, Spiridon  100M Freestyle For Sailors"
      ]
     },
     "execution_count": 36,
     "metadata": {},
     "output_type": "execute_result"
    }
   ],
   "source": [
    "event = data[['Athlete', 'Event']]\n",
    "event.head()"
   ]
  },
  {
   "cell_type": "code",
   "execution_count": 37,
   "id": "631cfa4c",
   "metadata": {},
   "outputs": [
    {
     "data": {
      "text/plain": [
       "Football                   1497\n",
       "Hockey                     1422\n",
       "Team Competition           1147\n",
       "Basketball                 1012\n",
       "Handball                    973\n",
       "                           ... \n",
       "Moving Bird Target, 33M       2\n",
       "Class B Up To 60 Feet         2\n",
       "- 47.63KG (Flyweight)         2\n",
       "Moving Bird Target, 50M       2\n",
       "Open Class A                  1\n",
       "Name: Event, Length: 666, dtype: int64"
      ]
     },
     "execution_count": 37,
     "metadata": {},
     "output_type": "execute_result"
    }
   ],
   "source": [
    "count = event['Event'].value_counts()\n",
    "count"
   ]
  },
  {
   "cell_type": "markdown",
   "id": "d0bbf090",
   "metadata": {},
   "source": [
    "The <b>above counts</b> are already in <b>descending order.</b> So the <b>Top 5</b> can be found out easily."
   ]
  },
  {
   "cell_type": "code",
   "execution_count": 38,
   "id": "10001c1d",
   "metadata": {},
   "outputs": [
    {
     "data": {
      "text/plain": [
       "Football            1497\n",
       "Hockey              1422\n",
       "Team Competition    1147\n",
       "Basketball          1012\n",
       "Handball             973\n",
       "Name: Event, dtype: int64"
      ]
     },
     "execution_count": 38,
     "metadata": {},
     "output_type": "execute_result"
    }
   ],
   "source": [
    "arr = count[0:5]\n",
    "arr"
   ]
  },
  {
   "cell_type": "code",
   "execution_count": 39,
   "id": "528245ef",
   "metadata": {},
   "outputs": [
    {
     "data": {
      "text/plain": [
       "array([1497, 1422, 1147, 1012,  973], dtype=int64)"
      ]
     },
     "execution_count": 39,
     "metadata": {},
     "output_type": "execute_result"
    }
   ],
   "source": [
    "arr.values"
   ]
  },
  {
   "cell_type": "code",
   "execution_count": 40,
   "id": "acc1b429",
   "metadata": {},
   "outputs": [
    {
     "data": {
      "text/plain": [
       "Index(['Football', 'Hockey', 'Team Competition', 'Basketball', 'Handball'], dtype='object')"
      ]
     },
     "execution_count": 40,
     "metadata": {},
     "output_type": "execute_result"
    }
   ],
   "source": [
    "arr.index"
   ]
  },
  {
   "cell_type": "code",
   "execution_count": 41,
   "id": "12538069",
   "metadata": {},
   "outputs": [
    {
     "data": {
      "image/png": "[encoded data removed]",
      "text/plain": [
       "<Figure size 432x288 with 1 Axes>"
      ]
     },
     "metadata": {
      "needs_background": "light"
     },
     "output_type": "display_data"
    }
   ],
   "source": [
    "plt.bar(arr.index, arr.values)\n",
    "lst = [1,2,3,4,5]\n",
    "for i,j in zip(lst, arr.values):\n",
    "    plt.text( i -1, j+1, s = str(j) )\n",
    "plt.title(\"Top 5 Events based on Number of Players\")\n",
    "plt.grid(True)\n",
    "plt.xticks(rotation=90)\n",
    "plt.show()\n"
   ]
  },
  {
   "cell_type": "code",
   "execution_count": 42,
   "id": "79ca55bf",
   "metadata": {},
   "outputs": [
    {
     "name": "stdout",
     "output_type": "stream",
     "text": [
      "Answer 7 : Top 5 Events based on most number of Players : Index(['Football', 'Hockey', 'Team Competition', 'Basketball', 'Handball'], dtype='object')\n"
     ]
    }
   ],
   "source": [
    "print(\"Answer 7 : Top 5 Events based on most number of Players : \" + str(arr.index))"
   ]
  },
  {
   "cell_type": "markdown",
   "id": "e259ebf9",
   "metadata": {},
   "source": [
    "### 8. Which sport is having most female Gold Medalists? (Top 5)"
   ]
  },
  {
   "cell_type": "code",
   "execution_count": 43,
   "id": "7fecac70",
   "metadata": {},
   "outputs": [
    {
     "data": {
      "text/plain": [
       "Index(['Year', 'City', 'Sport', 'Discipline', 'Athlete', 'Country', 'Gender',\n",
       "       'Event', 'Medal'],\n",
       "      dtype='object')"
      ]
     },
     "execution_count": 43,
     "metadata": {},
     "output_type": "execute_result"
    }
   ],
   "source": [
    "data.columns"
   ]
  },
  {
   "cell_type": "code",
   "execution_count": 44,
   "id": "baf112ba",
   "metadata": {},
   "outputs": [
    {
     "data": {
      "text/html": [
       "<div>\n",
       "<style scoped>\n",
       "    .dataframe tbody tr th:only-of-type {\n",
       "        vertical-align: middle;\n",
       "    }\n",
       "\n",
       "    .dataframe tbody tr th {\n",
       "        vertical-align: top;\n",
       "    }\n",
       "\n",
       "    .dataframe thead th {\n",
       "        text-align: right;\n",
       "    }\n",
       "</style>\n",
       "<table border=\"1\" class=\"dataframe\">\n",
       "  <thead>\n",
       "    <tr style=\"text-align: right;\">\n",
       "      <th></th>\n",
       "      <th>Year</th>\n",
       "      <th>City</th>\n",
       "      <th>Sport</th>\n",
       "      <th>Discipline</th>\n",
       "      <th>Athlete</th>\n",
       "      <th>Country</th>\n",
       "      <th>Gender</th>\n",
       "      <th>Event</th>\n",
       "      <th>Medal</th>\n",
       "    </tr>\n",
       "  </thead>\n",
       "  <tbody>\n",
       "    <tr>\n",
       "      <th>417</th>\n",
       "      <td>1900</td>\n",
       "      <td>Paris</td>\n",
       "      <td>Golf</td>\n",
       "      <td>Golf</td>\n",
       "      <td>ABBOTT, Margaret Ives</td>\n",
       "      <td>USA</td>\n",
       "      <td>Women</td>\n",
       "      <td>Individual</td>\n",
       "      <td>Gold</td>\n",
       "    </tr>\n",
       "    <tr>\n",
       "      <th>641</th>\n",
       "      <td>1900</td>\n",
       "      <td>Paris</td>\n",
       "      <td>Tennis</td>\n",
       "      <td>Tennis</td>\n",
       "      <td>COOPER, Charlotte</td>\n",
       "      <td>GBR</td>\n",
       "      <td>Women</td>\n",
       "      <td>Mixed Doubles</td>\n",
       "      <td>Gold</td>\n",
       "    </tr>\n",
       "    <tr>\n",
       "      <th>649</th>\n",
       "      <td>1900</td>\n",
       "      <td>Paris</td>\n",
       "      <td>Tennis</td>\n",
       "      <td>Tennis</td>\n",
       "      <td>COOPER, Charlotte</td>\n",
       "      <td>GBR</td>\n",
       "      <td>Women</td>\n",
       "      <td>Singles</td>\n",
       "      <td>Gold</td>\n",
       "    </tr>\n",
       "    <tr>\n",
       "      <th>710</th>\n",
       "      <td>1904</td>\n",
       "      <td>St Louis</td>\n",
       "      <td>Archery</td>\n",
       "      <td>Archery</td>\n",
       "      <td>HOWELL, Matilda Scott</td>\n",
       "      <td>USA</td>\n",
       "      <td>Women</td>\n",
       "      <td>Double Columbia Round (50Y - 40Y - 30Y)</td>\n",
       "      <td>Gold</td>\n",
       "    </tr>\n",
       "    <tr>\n",
       "      <th>713</th>\n",
       "      <td>1904</td>\n",
       "      <td>St Louis</td>\n",
       "      <td>Archery</td>\n",
       "      <td>Archery</td>\n",
       "      <td>HOWELL, Matilda Scott</td>\n",
       "      <td>USA</td>\n",
       "      <td>Women</td>\n",
       "      <td>Double National Round (60Y - 50Y)</td>\n",
       "      <td>Gold</td>\n",
       "    </tr>\n",
       "  </tbody>\n",
       "</table>\n",
       "</div>"
      ],
      "text/plain": [
       "     Year      City    Sport Discipline                Athlete Country Gender  \\\n",
       "417  1900     Paris     Golf       Golf  ABBOTT, Margaret Ives     USA  Women   \n",
       "641  1900     Paris   Tennis     Tennis      COOPER, Charlotte     GBR  Women   \n",
       "649  1900     Paris   Tennis     Tennis      COOPER, Charlotte     GBR  Women   \n",
       "710  1904  St Louis  Archery    Archery  HOWELL, Matilda Scott     USA  Women   \n",
       "713  1904  St Louis  Archery    Archery  HOWELL, Matilda Scott     USA  Women   \n",
       "\n",
       "                                       Event Medal  \n",
       "417                               Individual  Gold  \n",
       "641                            Mixed Doubles  Gold  \n",
       "649                                  Singles  Gold  \n",
       "710  Double Columbia Round (50Y - 40Y - 30Y)  Gold  \n",
       "713        Double National Round (60Y - 50Y)  Gold  "
      ]
     },
     "execution_count": 44,
     "metadata": {},
     "output_type": "execute_result"
    }
   ],
   "source": [
    "female =  data[data['Gender'] == 'Women']\n",
    "female = female[female['Medal'] ==  'Gold']\n",
    "female.head()\n"
   ]
  },
  {
   "cell_type": "code",
   "execution_count": 45,
   "id": "4663f327",
   "metadata": {},
   "outputs": [
    {
     "data": {
      "text/plain": [
       "Aquatics             589\n",
       "Athletics            389\n",
       "Gymnastics           268\n",
       "Rowing               217\n",
       "Volleyball           166\n",
       "Hockey               144\n",
       "Handball             142\n",
       "Basketball           120\n",
       "Fencing              108\n",
       "Football              86\n",
       "Canoe / Kayak         76\n",
       "Softball              60\n",
       "Equestrian            51\n",
       "Cycling               45\n",
       "Shooting              43\n",
       "Judo                  42\n",
       "Archery               39\n",
       "Sailing               38\n",
       "Tennis                38\n",
       "Weightlifting         28\n",
       "Table Tennis          23\n",
       "Badminton             23\n",
       "Taekwondo             16\n",
       "Wrestling             12\n",
       "Canoe                  9\n",
       "Triathlon              4\n",
       "Modern Pentathlon      4\n",
       "Skating                4\n",
       "Boxing                 3\n",
       "Golf                   1\n",
       "Name: Sport, dtype: int64"
      ]
     },
     "execution_count": 45,
     "metadata": {},
     "output_type": "execute_result"
    }
   ],
   "source": [
    "count = female['Sport'].value_counts()\n",
    "count"
   ]
  },
  {
   "cell_type": "markdown",
   "id": "7302189b",
   "metadata": {},
   "source": [
    "The <b>above counts</b> are already in <b>descending order.</b> So the <b>Top 5</b> can be found out easily."
   ]
  },
  {
   "cell_type": "code",
   "execution_count": 46,
   "id": "e89752a5",
   "metadata": {},
   "outputs": [
    {
     "data": {
      "text/plain": [
       "Aquatics      589\n",
       "Athletics     389\n",
       "Gymnastics    268\n",
       "Rowing        217\n",
       "Volleyball    166\n",
       "Name: Sport, dtype: int64"
      ]
     },
     "execution_count": 46,
     "metadata": {},
     "output_type": "execute_result"
    }
   ],
   "source": [
    "arr =  count[0:5]\n",
    "arr"
   ]
  },
  {
   "cell_type": "code",
   "execution_count": 47,
   "id": "b723ee23",
   "metadata": {},
   "outputs": [
    {
     "data": {
      "text/plain": [
       "array([589, 389, 268, 217, 166], dtype=int64)"
      ]
     },
     "execution_count": 47,
     "metadata": {},
     "output_type": "execute_result"
    }
   ],
   "source": [
    "arr.values"
   ]
  },
  {
   "cell_type": "code",
   "execution_count": 48,
   "id": "7d00d2a7",
   "metadata": {},
   "outputs": [
    {
     "data": {
      "image/png": "[encoded data removed]",
      "text/plain": [
       "<Figure size 432x288 with 1 Axes>"
      ]
     },
     "metadata": {
      "needs_background": "light"
     },
     "output_type": "display_data"
    }
   ],
   "source": [
    "plt.bar(arr.index, arr.values)\n",
    "lst = [1,2,3,4,5]\n",
    "for i,j in zip(lst, arr.values):\n",
    "    plt.text( i -1, j+5, s = str(j) )\n",
    "plt.title(\"Top 5 Sports based on most Female Gold Medalists\")\n",
    "plt.grid(True)\n",
    "plt.show()\n",
    "plt.show()"
   ]
  },
  {
   "cell_type": "code",
   "execution_count": 49,
   "id": "8c0b0ef2",
   "metadata": {},
   "outputs": [
    {
     "name": "stdout",
     "output_type": "stream",
     "text": [
      "Answer 8 : Top 5 sports based on most Female Gold Medalists : Index(['Aquatics', 'Athletics', 'Gymnastics', 'Rowing', 'Volleyball'], dtype='object')\n"
     ]
    }
   ],
   "source": [
    "print(\"Answer 8 : Top 5 sports based on most Female Gold Medalists : \" + str(arr.index))"
   ]
  }
 ],
 "metadata": {
  "kernelspec": {
   "display_name": "Python 3 (ipykernel)",
   "language": "python",
   "name": "python3"
  },
  "language_info": {
   "codemirror_mode": {
    "name": "ipython",
    "version": 3
   },
   "file_extension": ".py",
   "mimetype": "text/x-python",
   "name": "python",
   "nbconvert_exporter": "python",
   "pygments_lexer": "ipython3",
   "version": "3.9.7"
  }
 },
 "nbformat": 4,
 "nbformat_minor": 5
}
